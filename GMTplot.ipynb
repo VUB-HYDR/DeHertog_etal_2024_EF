{
 "cells": [
  {
   "cell_type": "code",
   "execution_count": 12,
   "id": "1fffd8dd",
   "metadata": {},
   "outputs": [],
   "source": [
    "import xarray as xr\n",
    "import cartopy.crs as ccrs\n",
    "import matplotlib.pyplot as plt\n",
    "import numpy as np\n",
    "import pandas as pd\n",
    "import os \n",
    "%matplotlib inline\n",
    "from datetime import timedelta\n"
   ]
  },
  {
   "cell_type": "code",
   "execution_count": 13,
   "id": "19873b5c",
   "metadata": {},
   "outputs": [],
   "source": [
    "ddir= '/dodrio/scratch/projects/2022_200/project_output/bclimate/sdeherto/postprocessing/'\n",
    "#read in different files\n",
    "def open_ds(var,case,esm='cesm',model='cam',ens='001',stream='h0'):\n",
    "    if esm=='cesm':\n",
    "        if case[:4]=='hist':\n",
    "            comp='BHIST'\n",
    "            tseriesdir = ddir + 'b.e213.'+comp+'_BPRP.f09_g17.esm-hist-i308.'+ens+'/' \n",
    "        else:\n",
    "            comp='BSSP126'\n",
    "            tseriesdir = ddir + 'b.e213.'+comp+'_BPRP.f09_g17.esm-'+case+'-i308.'+ens+'/' \n",
    "\n",
    "        # define filename\n",
    "        fn = var+'_b.e213.'+comp+'_BPRP.f09_g17.esm-'+case+'-i308.'+ ens + '.' + model + '.' + stream + '.nc'\n",
    "    else:\n",
    "        ens='i'+ens[-1]\n",
    "\n",
    "        if case=='hist':\n",
    "            case='histctl'\n",
    "            tspan='1980-2014'\n",
    "        else:\n",
    "            tspan='2015-2099'\n",
    "        tseriesdir = ddir + esm+'/'+case+'/'\n",
    "        # define filename\n",
    "        if stream=='h0':\n",
    "            fn = var+'_monthly_'+esm+'_'+case+'_'+ens+'_no-dynveg_'+tspan+ '.nc'\n",
    "        elif stream=='h2':\n",
    "            fn = var+'_3hr_'+esm+'_'+case+'_'+ens+'_no-dynveg_'+tspan+ '.nc'\n",
    "        elif stream=='h1':\n",
    "            fn = var+'_'+esm+'_'+case+'_'+ens+'_no-dynveg_'+tspan+ '.nc'\n",
    "\n",
    "    # check if variable timeseries exists and open variable as data array\n",
    "    if not os.path.isfile(tseriesdir + fn):\n",
    "        print(fn + ' does not exists in ')\n",
    "        print(tseriesdir)\n",
    "        return\n",
    "    else: \n",
    "        \n",
    "        if esm=='cesm':\n",
    "            ds = xr.open_dataset(tseriesdir+fn)\n",
    "        else:\n",
    "           # ds = xr.open_dataset(savedir+fn)\n",
    "            #print(ds.time.attrs['units'])\n",
    "            ds = xr.open_dataset(tseriesdir+fn)\n",
    "            ds['time']=pd.to_datetime(ds['time'], format='%Y%m%d') \n",
    "        return ds\n",
    "\n",
    "def open_da(var, case,esm='cesm', model='cam',ens='001',stream='h0'):\n",
    "    ds = open_ds(var, case, esm,model,ens,stream)\n",
    "    if var=='2t':\n",
    "        var='var167'\n",
    "    da = ds[var]\n",
    "    return da\n",
    "\n",
    "\n",
    "\n",
    "ds_TREFHT_hist_1=open_da('TREFHT','hist','cesm','cam','001')\n",
    "ds_TREFHT_hist_2=open_da('TREFHT','hist','cesm','cam','002')\n",
    "ds_TREFHT_hist_3=open_da('TREFHT','hist','cesm','cam','003')\n",
    "\n",
    "ds_TREFHT_ctl_1=open_da('TREFHT','futctl','cesm','cam','001')\n",
    "ds_TREFHT_ctl_2=open_da('TREFHT','futctl','cesm','cam','002')\n",
    "ds_TREFHT_ctl_3=open_da('TREFHT','futctl','cesm','cam','003')\n",
    "\n",
    "ds_TREFHT_sust_1=open_da('TREFHT','futsust','cesm','cam','001')\n",
    "ds_TREFHT_sust_2=open_da('TREFHT','futsust','cesm','cam','002')\n",
    "ds_TREFHT_sust_3=open_da('TREFHT','futsust','cesm','cam','003')\n",
    "\n",
    "ds_TREFHT_ineq_1=open_da('TREFHT','futineq','cesm','cam','001')\n",
    "ds_TREFHT_ineq_2=open_da('TREFHT','futineq','cesm','cam','002')\n",
    "ds_TREFHT_ineq_3=open_da('TREFHT','futineq','cesm','cam','003')\n",
    "\n",
    "\n",
    "ds_TREFHT_mpiesm_hist_1=open_da('tas','hist','mpiesm','cam','001')\n",
    "ds_TREFHT_mpiesm_hist_2=open_da('tas','hist','mpiesm','cam','002')\n",
    "ds_TREFHT_mpiesm_hist_3=open_da('tas','hist','mpiesm','cam','003')\n",
    "\n",
    "ds_TREFHT_mpiesm_ctl_1=open_da('tas','futctl','mpiesm','cam','001')\n",
    "ds_TREFHT_mpiesm_ctl_2=open_da('tas','futctl','mpiesm','cam','002')\n",
    "ds_TREFHT_mpiesm_ctl_3=open_da('tas','futctl','mpiesm','cam','003')\n",
    "\n",
    "ds_TREFHT_mpiesm_sust_1=open_da('tas','futsust','mpiesm','cam','001')\n",
    "ds_TREFHT_mpiesm_sust_2=open_da('tas','futsust','mpiesm','cam','002')\n",
    "ds_TREFHT_mpiesm_sust_3=open_da('tas','futsust','mpiesm','cam','003')\n",
    "\n",
    "ds_TREFHT_mpiesm_ineq_1=open_da('tas','futineq','mpiesm','cam','001')\n",
    "ds_TREFHT_mpiesm_ineq_2=open_da('tas','futineq','mpiesm','cam','002')\n",
    "ds_TREFHT_mpiesm_ineq_3=open_da('tas','futineq','mpiesm','cam','003')\n",
    "\n",
    "ds_TREFHT_ecearth_hist_1=open_da('tas','hist','ecearth','cam','001')\n",
    "ds_TREFHT_ecearth_hist_2=open_da('tas','hist','ecearth','cam','002')\n",
    "ds_TREFHT_ecearth_hist_3=open_da('tas','hist','ecearth','cam','003')\n",
    "\n",
    "ds_TREFHT_ecearth_ctl_1=open_da('tas','futctl','ecearth','cam','001')\n",
    "ds_TREFHT_ecearth_ctl_2=open_da('tas','futctl','ecearth','cam','002')\n",
    "ds_TREFHT_ecearth_ctl_3=open_da('tas','futctl','ecearth','cam','003')\n",
    "\n",
    "ds_TREFHT_ecearth_sust_1=open_da('tas','futsust','ecearth','cam','001')\n",
    "ds_TREFHT_ecearth_sust_2=open_da('tas','futsust','ecearth','cam','002')\n",
    "ds_TREFHT_ecearth_sust_3=open_da('tas','futsust','ecearth','cam','003')\n",
    "\n",
    "ds_TREFHT_ecearth_ineq_1=open_da('tas','futineq','ecearth','cam','001')\n",
    "ds_TREFHT_ecearth_ineq_2=open_da('tas','futineq','ecearth','cam','002')\n",
    "ds_TREFHT_ecearth_ineq_3=open_da('tas','futineq','ecearth','cam','003')\n"
   ]
  },
  {
   "cell_type": "code",
   "execution_count": 14,
   "id": "b319d280",
   "metadata": {},
   "outputs": [
    {
     "name": "stdout",
     "output_type": "stream",
     "text": [
      "CESM\n",
      "futctl-presctl\n",
      "1.0532733\n",
      "0.5481718\n",
      "(1.020580459965556, 1.0859661804305623)\n",
      "3.8909804389673486e-176\n",
      "sust-futctl\n",
      "-0.06718987\n",
      "0.38216642\n",
      "(-0.08998220267998902, -0.044397541849735093)\n",
      "3.7641412455985755e-09\n",
      "ineq-futctl\n",
      "0.2885674\n",
      "0.3772169\n",
      "(0.2660702514190703, 0.3110645366172761)\n",
      "1.3847166665150744e-95\n",
      "sust-ineq\n",
      "-0.3557573\n",
      "0.3875658\n",
      "(-0.37887164424029685, -0.3326429479304185)\n",
      "4.014890284327222e-118\n",
      "EC-EARTH\n",
      "futctl-presctl\n",
      "1.0202262\n",
      "0.5320006\n",
      "(0.9884978281485798, 1.0519546521675824)\n",
      "5.120493780991088e-177\n",
      "sust-futctl\n",
      "0.06287048\n",
      "0.37334228\n",
      "(0.040604419682166756, 0.08513654055819732)\n",
      "2.8456615500884428e-08\n",
      "ineq-futctl\n",
      "0.29585674\n",
      "0.37143525\n",
      "(0.27370441796164124, 0.318009070140318)\n",
      "1.4351901859470899e-100\n",
      "sust-ineq\n",
      "-0.23298629\n",
      "0.31080747\n",
      "(-0.25152278291246655, -0.2144497896526122)\n",
      "4.0584034620180575e-92\n",
      "MPI-ESM\n",
      "futctl-presctl\n",
      "0.3529427\n",
      "0.44987226\n",
      "(0.3261124116661227, 0.3797729986427152)\n",
      "6.293477297444989e-96\n",
      "sust-futctl\n",
      "0.06652103\n",
      "0.34791067\n",
      "(0.04577170905661962, 0.0872703582327328)\n",
      "7.320949308954592e-09\n",
      "ineq-futctl\n",
      "0.16996805\n",
      "0.36057687\n",
      "(0.1484633196756095, 0.19147278772146997)\n",
      "2.4301628339436917e-46\n",
      "sust-ineq\n",
      "-0.10344702\n",
      "0.3483319\n",
      "(-0.12422146647980162, -0.08267257362792543)\n",
      "1.4993437054368913e-21\n"
     ]
    }
   ],
   "source": [
    "##compute statistical significance of differences\n",
    "#1) pool all ensemble members\n",
    "#2) take spatial mean\n",
    "#3) compute differences, stdev and significance\n",
    "\n",
    "from scipy import stats\n",
    "ds_TREFHT_hist_mean=xr.concat([ds_TREFHT_hist_1.mean(['lat','lon'])[-30*12-1:-1],ds_TREFHT_hist_2.mean(['lat','lon'])[-30*12-1:-1],ds_TREFHT_hist_3.mean(['lat','lon'])[-30*12-1:-1]],'time')\n",
    "ds_TREFHT_ineq_mean=xr.concat([ds_TREFHT_ineq_1.mean(['lat','lon'])[-30*12-1:-1],ds_TREFHT_ineq_2.mean(['lat','lon'])[-30*12-1:-1],ds_TREFHT_ineq_3.mean(['lat','lon'])[-30*12-1:-1]],'time')\n",
    "ds_TREFHT_sust_mean=xr.concat([ds_TREFHT_sust_1.mean(['lat','lon'])[-30*12-1:-1],ds_TREFHT_sust_2.mean(['lat','lon'])[-30*12-1:-1],ds_TREFHT_sust_3.mean(['lat','lon'])[-30*12-1:-1]],'time')\n",
    "ds_TREFHT_ctl_mean=xr.concat([ds_TREFHT_ctl_1.mean(['lat','lon'])[-30*12-1:-1],ds_TREFHT_ctl_2.mean(['lat','lon'])[-30*12-1:-1],ds_TREFHT_ctl_3.mean(['lat','lon'])[-30*12-1:-1]],'time')\n",
    "\n",
    "diff_ctl=ds_TREFHT_ctl_mean.values-ds_TREFHT_hist_mean.values\n",
    "diff_sust=ds_TREFHT_sust_mean.values-ds_TREFHT_ctl_mean.values\n",
    "diff_ineq=ds_TREFHT_ineq_mean.values-ds_TREFHT_ctl_mean.values\n",
    "diff_lcc=ds_TREFHT_sust_mean.values-ds_TREFHT_ineq_mean.values\n",
    "\n",
    "diff_list=[diff_ctl,diff_sust,diff_ineq,diff_lcc]\n",
    "case_list=['futctl-presctl','sust-futctl','ineq-futctl','sust-ineq']\n",
    "print('CESM')\n",
    "for i in range(len(diff_list)):\n",
    "    print(case_list[i])\n",
    "    print(np.mean(diff_list[i]))\n",
    "    print(np.std(diff_list[i]))\n",
    "    n = len(diff_list[i])\n",
    "    std_err = np.std(diff_list[i]) / np.sqrt(n)\n",
    "    ci = stats.norm.interval(0.95, loc=np.mean(diff_list[i]), scale=std_err)    \n",
    "    print(ci)\n",
    "    jos,pvalue= stats.wilcoxon(diff_list[i])\n",
    "    print(pvalue)\n",
    "\n",
    "\n",
    "ds_TREFHT_ecearth_hist_mean=xr.concat([ds_TREFHT_ecearth_hist_1.mean(['lat','lon'])[-30*12:],ds_TREFHT_ecearth_hist_2.mean(['lat','lon'])[-30*12:],ds_TREFHT_ecearth_hist_3.mean(['lat','lon'])[-30*12:]],'time')\n",
    "ds_TREFHT_ecearth_ineq_mean=xr.concat([ds_TREFHT_ecearth_ineq_1.mean(['lat','lon'])[-30*12:],ds_TREFHT_ecearth_ineq_2.mean(['lat','lon'])[-30*12:],ds_TREFHT_ecearth_ineq_3.mean(['lat','lon'])[-30*12:]],'time')\n",
    "ds_TREFHT_ecearth_sust_mean=xr.concat([ds_TREFHT_ecearth_sust_1.mean(['lat','lon'])[-30*12:],ds_TREFHT_ecearth_sust_2.mean(['lat','lon'])[-30*12:],ds_TREFHT_ecearth_sust_3.mean(['lat','lon'])[-30*12:]],'time')\n",
    "ds_TREFHT_ecearth_ctl_mean=xr.concat([ds_TREFHT_ecearth_ctl_1.mean(['lat','lon'])[-30*12:],ds_TREFHT_ecearth_ctl_2.mean(['lat','lon'])[-30*12:],ds_TREFHT_ecearth_ctl_3.mean(['lat','lon'])[-30*12:]],'time')\n",
    "\n",
    "diff_ctl=ds_TREFHT_ecearth_ctl_mean.values-ds_TREFHT_ecearth_hist_mean.values\n",
    "diff_sust=ds_TREFHT_ecearth_sust_mean.values-ds_TREFHT_ecearth_ctl_mean.values\n",
    "diff_ineq=ds_TREFHT_ecearth_ineq_mean.values-ds_TREFHT_ecearth_ctl_mean.values\n",
    "diff_lcc=ds_TREFHT_ecearth_sust_mean.values-ds_TREFHT_ecearth_ineq_mean.values\n",
    "\n",
    "diff_list=[diff_ctl,diff_sust,diff_ineq,diff_lcc]\n",
    "case_list=['futctl-presctl','sust-futctl','ineq-futctl','sust-ineq']\n",
    "print('EC-EARTH')\n",
    "for i in range(len(diff_list)):\n",
    "    print(case_list[i])\n",
    "    print(np.mean(diff_list[i]))\n",
    "    print(np.std(diff_list[i]))\n",
    "    n = len(diff_list[i])\n",
    "    std_err = np.std(diff_list[i]) / np.sqrt(n)\n",
    "    ci = stats.norm.interval(0.95, loc=np.mean(diff_list[i]), scale=std_err)    \n",
    "    print(ci)\n",
    "    jos,pvalue= stats.wilcoxon(diff_list[i])\n",
    "    print(pvalue)\n",
    "    \n",
    "\n",
    "ds_TREFHT_mpiesm_hist_mean=xr.concat([ds_TREFHT_mpiesm_hist_1.mean(['lat','lon'])[-30*12:],ds_TREFHT_mpiesm_hist_2.mean(['lat','lon'])[-30*12:],ds_TREFHT_mpiesm_hist_3.mean(['lat','lon'])[-30*12:]],'time')\n",
    "ds_TREFHT_mpiesm_ineq_mean=xr.concat([ds_TREFHT_mpiesm_ineq_1.mean(['lat','lon'])[-30*12:],ds_TREFHT_mpiesm_ineq_2.mean(['lat','lon'])[-30*12:],ds_TREFHT_mpiesm_ineq_3.mean(['lat','lon'])[-30*12:]],'time')\n",
    "ds_TREFHT_mpiesm_sust_mean=xr.concat([ds_TREFHT_mpiesm_sust_1.mean(['lat','lon'])[-30*12:],ds_TREFHT_mpiesm_sust_2.mean(['lat','lon'])[-30*12:],ds_TREFHT_mpiesm_sust_3.mean(['lat','lon'])[-30*12:]],'time')\n",
    "ds_TREFHT_mpiesm_ctl_mean=xr.concat([ds_TREFHT_mpiesm_ctl_1.mean(['lat','lon'])[-30*12:],ds_TREFHT_mpiesm_ctl_2.mean(['lat','lon'])[-30*12:],ds_TREFHT_mpiesm_ctl_3.mean(['lat','lon'])[-30*12:]],'time')\n",
    "\n",
    "diff_ctl=ds_TREFHT_mpiesm_ctl_mean.values-ds_TREFHT_mpiesm_hist_mean.values\n",
    "diff_sust=ds_TREFHT_mpiesm_sust_mean.values-ds_TREFHT_mpiesm_ctl_mean.values\n",
    "diff_ineq=ds_TREFHT_mpiesm_ineq_mean.values-ds_TREFHT_mpiesm_ctl_mean.values\n",
    "diff_lcc=ds_TREFHT_mpiesm_sust_mean.values-ds_TREFHT_mpiesm_ineq_mean.values\n",
    "\n",
    "diff_list=[diff_ctl,diff_sust,diff_ineq,diff_lcc]\n",
    "case_list=['futctl-presctl','sust-futctl','ineq-futctl','sust-ineq']\n",
    "print('MPI-ESM')\n",
    "for i in range(len(diff_list)):\n",
    "    print(case_list[i])\n",
    "    print(np.mean(diff_list[i]))\n",
    "    print(np.std(diff_list[i]))\n",
    "    n = len(diff_list[i])\n",
    "    std_err = np.std(diff_list[i]) / np.sqrt(n)\n",
    "    ci = stats.norm.interval(0.95, loc=np.mean(diff_list[i]), scale=std_err)    \n",
    "    print(ci)\n",
    "    jos,pvalue= stats.wilcoxon(diff_list[i])\n",
    "    print(pvalue)"
   ]
  },
  {
   "cell_type": "code",
   "execution_count": 15,
   "id": "00b7e144",
   "metadata": {},
   "outputs": [
    {
     "name": "stdout",
     "output_type": "stream",
     "text": [
      "<xarray.DataArray 'TREFHT' (time: 360)>\n",
      "array([277.11044, 276.81653, 276.41556, 276.32852, 276.89252, 278.55817,\n",
      "       280.08835, 280.1525 , 280.0837 , 278.7823 , 278.09702, 277.33655,\n",
      "       277.02615, 276.67856, 275.797  , 275.71017, 276.97577, 279.08395,\n",
      "       280.2265 , 280.2711 , 280.32248, 279.12643, 277.8839 , 277.68744,\n",
      "       277.3018 , 277.27747, 276.68668, 276.3464 , 277.35913, 278.97662,\n",
      "       279.80493, 280.11087, 279.94995, 279.27017, 278.4724 , 278.04938,\n",
      "       277.43176, 276.94922, 276.3559 , 275.7847 , 277.52014, 278.95724,\n",
      "       279.8369 , 280.15875, 280.39966, 279.17203, 278.41675, 277.75803,\n",
      "       277.50748, 276.9619 , 276.7353 , 276.06943, 277.22748, 279.05292,\n",
      "       280.29437, 280.1321 , 280.1613 , 279.18774, 278.17908, 277.62234,\n",
      "       277.18472, 276.52017, 276.15555, 276.2594 , 277.3494 , 279.15897,\n",
      "       280.00375, 280.0615 , 279.98578, 279.41586, 278.12906, 277.1772 ,\n",
      "       277.1098 , 276.87796, 275.94498, 275.5292 , 277.02615, 278.84915,\n",
      "       280.13416, 280.12683, 280.2778 , 279.27   , 278.28946, 277.35138,\n",
      "       277.2525 , 277.09402, 275.7745 , 275.89188, 277.17444, 279.13196,\n",
      "       279.92722, 280.51776, 279.91687, 278.77682, 278.41757, 277.6739 ,\n",
      "       277.5399 , 276.76422, 276.13324, 276.739  , 277.5793 , 279.25815,\n",
      "       280.34668, 280.69772, 280.43427, 279.53235, 278.21927, 277.5006 ,\n",
      "       277.3095 , 277.39734, 276.9849 , 275.7764 , 277.79343, 279.11877,\n",
      "       280.3984 , 281.12317, 280.49658, 279.69388, 278.63388, 278.92398,\n",
      "...\n",
      "       280.62094, 280.88614, 280.7134 , 279.78494, 279.02768, 278.15695,\n",
      "       277.79868, 277.34796, 277.25055, 277.01144, 278.04077, 279.6139 ,\n",
      "       280.6998 , 280.53284, 280.1722 , 279.82233, 279.1434 , 278.48236,\n",
      "       278.30594, 277.7105 , 276.86203, 276.67056, 278.18503, 279.60052,\n",
      "       280.83652, 281.24744, 280.6815 , 279.92615, 279.16882, 278.52362,\n",
      "       278.15414, 277.55676, 277.1462 , 277.10123, 277.92172, 279.1931 ,\n",
      "       280.58237, 280.68942, 280.6094 , 280.0516 , 279.00394, 278.1859 ,\n",
      "       278.4207 , 277.40463, 276.76434, 276.52747, 278.12457, 279.59473,\n",
      "       280.81412, 280.76672, 280.96793, 279.8577 , 279.41107, 278.83975,\n",
      "       278.01736, 277.87827, 277.52133, 277.20413, 278.02893, 279.60638,\n",
      "       280.78775, 281.01038, 280.73727, 280.07605, 279.3197 , 279.00363,\n",
      "       278.5442 , 277.8865 , 277.58228, 277.62347, 278.87698, 280.26306,\n",
      "       280.9934 , 281.28748, 280.6493 , 280.17584, 279.78397, 279.35696,\n",
      "       278.8674 , 278.35144, 277.384  , 277.65262, 278.5856 , 279.9254 ,\n",
      "       281.04138, 281.26907, 281.2638 , 280.2914 , 279.31403, 278.7387 ,\n",
      "       278.1528 , 277.6095 , 276.9223 , 276.59546, 278.30057, 279.96722,\n",
      "       281.06027, 281.1563 , 280.78015, 280.25922, 279.5698 , 279.2155 ,\n",
      "       279.0306 , 277.9568 , 277.35385, 277.62964, 278.61984, 279.64505,\n",
      "       280.99997, 281.23013, 280.72858, 280.5564 , 279.8894 , 279.57986],\n",
      "      dtype=float32)\n",
      "Coordinates:\n",
      "  * time     (time) object 1985-01-01 00:00:00 ... 2014-12-01 00:00:00\n"
     ]
    }
   ],
   "source": [
    "ds_TREFHT_hist_mean=xr.concat([ds_TREFHT_hist_1.mean(['lat','lon'])[-30*12-1:-1],ds_TREFHT_hist_2.mean(['lat','lon'])[-30:],ds_TREFHT_hist_3.mean(['lat','lon'])[-30:]],'time')\n",
    "print(ds_TREFHT_hist_1.mean(['lat','lon'])[-30*12-1:-1])"
   ]
  },
  {
   "cell_type": "code",
   "execution_count": null,
   "id": "c5998c9a",
   "metadata": {},
   "outputs": [],
   "source": []
  },
  {
   "cell_type": "code",
   "execution_count": null,
   "id": "4a31a8f8",
   "metadata": {},
   "outputs": [],
   "source": []
  },
  {
   "cell_type": "code",
   "execution_count": 16,
   "id": "083c3ed0",
   "metadata": {},
   "outputs": [],
   "source": [
    "#compute spatial means (global and/or regional)\n",
    "\n",
    "ds_TREFHT_ecearth_hist_1_mean=ds_TREFHT_ecearth_hist_1.mean(['lat','lon']).resample(time='AS').mean('time')[-30:]\n",
    "ds_TREFHT_ecearth_hist_2_mean=ds_TREFHT_ecearth_hist_2.mean(['lat','lon']).resample(time='AS').mean('time')[-30:]\n",
    "ds_TREFHT_ecearth_hist_3_mean=ds_TREFHT_ecearth_hist_3.mean(['lat','lon']).resample(time='AS').mean('time')[-30:]\n",
    "\n",
    "ds_TREFHT_ecearth_hist_mean=xr.concat([ds_TREFHT_ecearth_hist_1_mean,ds_TREFHT_ecearth_hist_2_mean,ds_TREFHT_ecearth_hist_3_mean],'time')\n",
    "\n",
    "ds_TREFHT_ecearth_ctl_1_mean=ds_TREFHT_ecearth_ctl_1.mean(['lat','lon']).resample(time='AS').mean('time')[-30:]\n",
    "ds_TREFHT_ecearth_ctl_2_mean=ds_TREFHT_ecearth_ctl_2.mean(['lat','lon']).resample(time='AS').mean('time')[-30:]\n",
    "ds_TREFHT_ecearth_ctl_3_mean=ds_TREFHT_ecearth_ctl_3.mean(['lat','lon']).resample(time='AS').mean('time')[-30:]\n",
    "ds_TREFHT_ecearth_ctl_mean=xr.concat([ds_TREFHT_ecearth_ctl_1_mean,ds_TREFHT_ecearth_ctl_2_mean,ds_TREFHT_ecearth_ctl_3_mean],'time')\n",
    "\n",
    "ds_TREFHT_ecearth_sust_1_mean=ds_TREFHT_ecearth_sust_1.mean(['lat','lon']).resample(time='AS').mean('time')[-30:]\n",
    "ds_TREFHT_ecearth_sust_2_mean=ds_TREFHT_ecearth_sust_2.mean(['lat','lon']).resample(time='AS').mean('time')[-30:]\n",
    "ds_TREFHT_ecearth_sust_3_mean=ds_TREFHT_ecearth_sust_3.mean(['lat','lon']).resample(time='AS').mean('time')[-30:]\n",
    "ds_TREFHT_ecearth_sust_mean=xr.concat([ds_TREFHT_ecearth_sust_1_mean,ds_TREFHT_ecearth_sust_2_mean,ds_TREFHT_ecearth_sust_3_mean],'time')\n",
    "\n",
    "ds_TREFHT_ecearth_ineq_1_mean=ds_TREFHT_ecearth_ineq_1.mean(['lat','lon']).resample(time='AS').mean('time')[-30:]\n",
    "ds_TREFHT_ecearth_ineq_2_mean=ds_TREFHT_ecearth_ineq_2.mean(['lat','lon']).resample(time='AS').mean('time')[-30:]\n",
    "ds_TREFHT_ecearth_ineq_3_mean=ds_TREFHT_ecearth_ineq_3.mean(['lat','lon']).resample(time='AS').mean('time')[-30:]\n",
    "ds_TREFHT_ecearth_ineq_mean=xr.concat([ds_TREFHT_ecearth_ineq_1_mean,ds_TREFHT_ecearth_ineq_2_mean,ds_TREFHT_ecearth_ineq_3_mean],'time')\n",
    "\n",
    "\n",
    "ds_TREFHT_mpiesm_hist_1_mean=ds_TREFHT_mpiesm_hist_1.mean(['lat','lon']).resample(time='AS').mean('time')[-30:]\n",
    "ds_TREFHT_mpiesm_hist_2_mean=ds_TREFHT_mpiesm_hist_2.mean(['lat','lon']).resample(time='AS').mean('time')[-30:]\n",
    "ds_TREFHT_mpiesm_hist_3_mean=ds_TREFHT_mpiesm_hist_3.mean(['lat','lon']).resample(time='AS').mean('time')[-30:]\n",
    "\n",
    "ds_TREFHT_mpiesm_hist_mean=xr.concat([ds_TREFHT_mpiesm_hist_1_mean,ds_TREFHT_mpiesm_hist_2_mean,ds_TREFHT_mpiesm_hist_3_mean],'time')\n",
    "\n",
    "ds_TREFHT_mpiesm_ctl_1_mean=ds_TREFHT_mpiesm_ctl_1.mean(['lat','lon']).resample(time='AS').mean('time')[-30:]\n",
    "ds_TREFHT_mpiesm_ctl_2_mean=ds_TREFHT_mpiesm_ctl_2.mean(['lat','lon']).resample(time='AS').mean('time')[-30:]\n",
    "ds_TREFHT_mpiesm_ctl_3_mean=ds_TREFHT_mpiesm_ctl_3.mean(['lat','lon']).resample(time='AS').mean('time')[-30:]\n",
    "ds_TREFHT_mpiesm_ctl_mean=xr.concat([ds_TREFHT_mpiesm_ctl_1_mean,ds_TREFHT_mpiesm_ctl_2_mean,ds_TREFHT_mpiesm_ctl_3_mean],'time')\n",
    "\n",
    "ds_TREFHT_mpiesm_sust_1_mean=ds_TREFHT_mpiesm_sust_1.mean(['lat','lon']).resample(time='AS').mean('time')[-30:]\n",
    "ds_TREFHT_mpiesm_sust_2_mean=ds_TREFHT_mpiesm_sust_2.mean(['lat','lon']).resample(time='AS').mean('time')[-30:]\n",
    "ds_TREFHT_mpiesm_sust_3_mean=ds_TREFHT_mpiesm_sust_3.mean(['lat','lon']).resample(time='AS').mean('time')[-30:]\n",
    "ds_TREFHT_mpiesm_sust_mean=xr.concat([ds_TREFHT_mpiesm_sust_1_mean,ds_TREFHT_mpiesm_sust_2_mean,ds_TREFHT_mpiesm_sust_3_mean],'time')\n",
    "\n",
    "ds_TREFHT_mpiesm_ineq_1_mean=ds_TREFHT_mpiesm_ineq_1.mean(['lat','lon']).resample(time='AS').mean('time')[-30:]\n",
    "ds_TREFHT_mpiesm_ineq_2_mean=ds_TREFHT_mpiesm_ineq_2.mean(['lat','lon']).resample(time='AS').mean('time')[-30:]\n",
    "ds_TREFHT_mpiesm_ineq_3_mean=ds_TREFHT_mpiesm_ineq_3.mean(['lat','lon']).resample(time='AS').mean('time')[-30:]\n",
    "ds_TREFHT_mpiesm_ineq_mean=xr.concat([ds_TREFHT_mpiesm_ineq_1_mean,ds_TREFHT_mpiesm_ineq_2_mean,ds_TREFHT_mpiesm_ineq_3_mean],'time')\n",
    "\n",
    "\n",
    "ds_TREFHT_hist_1_mean=ds_TREFHT_hist_1.mean(['lat','lon']).resample(time='AS').mean('time')[-31:-1]\n",
    "ds_TREFHT_hist_2_mean=ds_TREFHT_hist_2.mean(['lat','lon']).resample(time='AS').mean('time')[-31:-1]\n",
    "ds_TREFHT_hist_3_mean=ds_TREFHT_hist_3.mean(['lat','lon']).resample(time='AS').mean('time')[-31:-1]\n",
    "ds_TREFHT_hist_mean=xr.concat([ds_TREFHT_hist_1_mean,ds_TREFHT_hist_2_mean,ds_TREFHT_hist_3_mean],'time')\n",
    "\n",
    "ds_TREFHT_ctl_1_mean=ds_TREFHT_ctl_1.mean(['lat','lon']).resample(time='AS').mean('time')[-31:-1]\n",
    "ds_TREFHT_ctl_2_mean=ds_TREFHT_ctl_2.mean(['lat','lon']).resample(time='AS').mean('time')[-31:-1]\n",
    "ds_TREFHT_ctl_3_mean=ds_TREFHT_ctl_3.mean(['lat','lon']).resample(time='AS').mean('time')[-31:-1]\n",
    "ds_TREFHT_ctl_mean=xr.concat([ds_TREFHT_ctl_1_mean,ds_TREFHT_ctl_2_mean,ds_TREFHT_ctl_3_mean],'time')\n",
    "\n",
    "ds_TREFHT_sust_1_mean=ds_TREFHT_sust_1.mean(['lat','lon']).resample(time='AS').mean('time')[-31:-1]\n",
    "ds_TREFHT_sust_2_mean=ds_TREFHT_sust_2.mean(['lat','lon']).resample(time='AS').mean('time')[-31:-1]\n",
    "ds_TREFHT_sust_3_mean=ds_TREFHT_sust_3.mean(['lat','lon']).resample(time='AS').mean('time')[-31:-1]\n",
    "ds_TREFHT_sust_mean=xr.concat([ds_TREFHT_sust_1_mean,ds_TREFHT_sust_2_mean,ds_TREFHT_sust_3_mean],'time')\n",
    "\n",
    "ds_TREFHT_ineq_1_mean=ds_TREFHT_ineq_1.mean(['lat','lon']).resample(time='AS').mean('time')[-31:-1]\n",
    "ds_TREFHT_ineq_2_mean=ds_TREFHT_ineq_2.mean(['lat','lon']).resample(time='AS').mean('time')[-31:-1]\n",
    "ds_TREFHT_ineq_3_mean=ds_TREFHT_ineq_3.mean(['lat','lon']).resample(time='AS').mean('time')[-31:-1]\n",
    "ds_TREFHT_ineq_mean=xr.concat([ds_TREFHT_ineq_1_mean,ds_TREFHT_ineq_2_mean,ds_TREFHT_ineq_3_mean],'time')\n"
   ]
  },
  {
   "cell_type": "code",
   "execution_count": 17,
   "id": "b714c57e",
   "metadata": {},
   "outputs": [],
   "source": [
    "#compute spatial means (global and/or regional)\n",
    "mask_dir='/dodrio/scratch/projects/2022_200/project_output/bclimate/sdeherto/'\n",
    "mask_cesm=xr.open_dataset(mask_dir+'landmask_ecearth_no_ice.nc')\n",
    "da_mask=mask_cesm['landmask']\n",
    "#    da_mask['lat']=da_delta.lat\n",
    "#    da_mask['lon']=da_delta.lon\n",
    "ds_TREFHT_ecearth_land_hist_1_mean=ds_TREFHT_ecearth_hist_1.where(da_mask).mean(['lat','lon']).resample(time='AS').mean('time')[-31:-1]\n",
    "ds_TREFHT_ecearth_land_hist_2_mean=ds_TREFHT_ecearth_hist_2.where(da_mask).mean(['lat','lon']).resample(time='AS').mean('time')[-31:-1]\n",
    "ds_TREFHT_ecearth_land_hist_3_mean=ds_TREFHT_ecearth_hist_3.where(da_mask).mean(['lat','lon']).resample(time='AS').mean('time')[-31:-1]\n",
    "ds_TREFHT_ecearth_land_hist_mean=xr.concat([ds_TREFHT_ecearth_land_hist_1_mean,ds_TREFHT_ecearth_land_hist_2_mean,ds_TREFHT_ecearth_land_hist_3_mean],'time')\n",
    "\n",
    "\n",
    "ds_TREFHT_ecearth_land_ctl_1_mean=ds_TREFHT_ecearth_ctl_1.where(da_mask).mean(['lat','lon']).resample(time='AS').mean('time')[-31:-1]\n",
    "ds_TREFHT_ecearth_land_ctl_2_mean=ds_TREFHT_ecearth_ctl_2.where(da_mask).mean(['lat','lon']).resample(time='AS').mean('time')[-31:-1]\n",
    "ds_TREFHT_ecearth_land_ctl_3_mean=ds_TREFHT_ecearth_ctl_3.where(da_mask).mean(['lat','lon']).resample(time='AS').mean('time')[-31:-1]\n",
    "ds_TREFHT_ecearth_land_ctl_mean=xr.concat([ds_TREFHT_ecearth_land_ctl_1_mean,ds_TREFHT_ecearth_land_ctl_2_mean,ds_TREFHT_ecearth_land_ctl_3_mean],'time')\n",
    "\n",
    "\n",
    "ds_TREFHT_ecearth_land_sust_1_mean=ds_TREFHT_ecearth_sust_1.where(da_mask).mean(['lat','lon']).resample(time='AS').mean('time')[-31:-1]\n",
    "ds_TREFHT_ecearth_land_sust_2_mean=ds_TREFHT_ecearth_sust_2.where(da_mask).mean(['lat','lon']).resample(time='AS').mean('time')[-31:-1]\n",
    "ds_TREFHT_ecearth_land_sust_3_mean=ds_TREFHT_ecearth_sust_3.where(da_mask).mean(['lat','lon']).resample(time='AS').mean('time')[-31:-1]\n",
    "ds_TREFHT_ecearth_land_sust_mean=xr.concat([ds_TREFHT_ecearth_land_sust_1_mean,ds_TREFHT_ecearth_land_sust_2_mean,ds_TREFHT_ecearth_land_sust_3_mean],'time')\n",
    "\n",
    "\n",
    "ds_TREFHT_ecearth_land_ineq_1_mean=ds_TREFHT_ecearth_ineq_1.where(da_mask).mean(['lat','lon']).resample(time='AS').mean('time')[-31:-1]\n",
    "ds_TREFHT_ecearth_land_ineq_2_mean=ds_TREFHT_ecearth_ineq_2.where(da_mask).mean(['lat','lon']).resample(time='AS').mean('time')[-31:-1]\n",
    "ds_TREFHT_ecearth_land_ineq_3_mean=ds_TREFHT_ecearth_ineq_3.where(da_mask).mean(['lat','lon']).resample(time='AS').mean('time')[-31:-1]\n",
    "ds_TREFHT_ecearth_land_ineq_mean=xr.concat([ds_TREFHT_ecearth_land_ineq_1_mean,ds_TREFHT_ecearth_land_ineq_2_mean,ds_TREFHT_ecearth_land_ineq_3_mean],'time')\n",
    "\n",
    "mask_cesm=xr.open_dataset(mask_dir+'landmask_mpiesm_no_ice.nc')\n",
    "da_mask=mask_cesm['landmask']\n",
    "da_mask['lat']=ds_TREFHT_mpiesm_hist_1.lat\n",
    "da_mask['lon']=ds_TREFHT_mpiesm_hist_1.lon\n",
    "\n",
    "ds_TREFHT_mpiesm_land_hist_1_mean=ds_TREFHT_mpiesm_hist_1.where(da_mask).mean(['lat','lon']).resample(time='AS').mean('time')[-31:-1]\n",
    "ds_TREFHT_mpiesm_land_hist_2_mean=ds_TREFHT_mpiesm_hist_2.where(da_mask).mean(['lat','lon']).resample(time='AS').mean('time')[-31:-1]\n",
    "ds_TREFHT_mpiesm_land_hist_3_mean=ds_TREFHT_mpiesm_hist_3.where(da_mask).mean(['lat','lon']).resample(time='AS').mean('time')[-31:-1]\n",
    "ds_TREFHT_mpiesm_land_hist_mean=xr.concat([ds_TREFHT_mpiesm_land_hist_1_mean,ds_TREFHT_mpiesm_land_hist_2_mean,ds_TREFHT_mpiesm_land_hist_3_mean],'time')\n",
    "\n",
    "\n",
    "ds_TREFHT_mpiesm_land_ctl_1_mean=ds_TREFHT_mpiesm_ctl_1.where(da_mask).mean(['lat','lon']).resample(time='AS').mean('time')[-31:-1]\n",
    "ds_TREFHT_mpiesm_land_ctl_2_mean=ds_TREFHT_mpiesm_ctl_2.where(da_mask).mean(['lat','lon']).resample(time='AS').mean('time')[-31:-1]\n",
    "ds_TREFHT_mpiesm_land_ctl_3_mean=ds_TREFHT_mpiesm_ctl_3.where(da_mask).mean(['lat','lon']).resample(time='AS').mean('time')[-31:-1]\n",
    "ds_TREFHT_mpiesm_land_ctl_mean=xr.concat([ds_TREFHT_mpiesm_land_ctl_1_mean,ds_TREFHT_mpiesm_land_ctl_2_mean,ds_TREFHT_mpiesm_land_ctl_3_mean],'time')\n",
    "\n",
    "\n",
    "ds_TREFHT_mpiesm_land_sust_1_mean=ds_TREFHT_mpiesm_sust_1.where(da_mask).mean(['lat','lon']).resample(time='AS').mean('time')[-31:-1]\n",
    "ds_TREFHT_mpiesm_land_sust_2_mean=ds_TREFHT_mpiesm_sust_2.where(da_mask).mean(['lat','lon']).resample(time='AS').mean('time')[-31:-1]\n",
    "ds_TREFHT_mpiesm_land_sust_3_mean=ds_TREFHT_mpiesm_sust_3.where(da_mask).mean(['lat','lon']).resample(time='AS').mean('time')[-31:-1]\n",
    "ds_TREFHT_mpiesm_land_sust_mean=xr.concat([ds_TREFHT_mpiesm_land_sust_1_mean,ds_TREFHT_mpiesm_land_sust_2_mean,ds_TREFHT_mpiesm_land_sust_3_mean],'time')\n",
    "\n",
    "\n",
    "ds_TREFHT_mpiesm_land_ineq_1_mean=ds_TREFHT_mpiesm_ineq_1.where(da_mask).mean(['lat','lon']).resample(time='AS').mean('time')[-31:-1]\n",
    "ds_TREFHT_mpiesm_land_ineq_2_mean=ds_TREFHT_mpiesm_ineq_2.where(da_mask).mean(['lat','lon']).resample(time='AS').mean('time')[-31:-1]\n",
    "ds_TREFHT_mpiesm_land_ineq_3_mean=ds_TREFHT_mpiesm_ineq_3.where(da_mask).mean(['lat','lon']).resample(time='AS').mean('time')[-31:-1]\n",
    "ds_TREFHT_mpiesm_land_ineq_mean=xr.concat([ds_TREFHT_mpiesm_land_ineq_1_mean,ds_TREFHT_mpiesm_land_ineq_2_mean,ds_TREFHT_mpiesm_land_ineq_3_mean],'time')\n",
    "\n",
    "mask_cesm=xr.open_dataset(mask_dir+'landmask_cesm_no_ice.nc')\n",
    "da_mask=mask_cesm['landmask']\n",
    "\n",
    "ds_TREFHT_land_hist_1_mean=ds_TREFHT_hist_1.where(da_mask).mean(['lat','lon']).resample(time='AS').mean('time')[-31:-1]\n",
    "ds_TREFHT_land_hist_2_mean=ds_TREFHT_hist_2.where(da_mask).mean(['lat','lon']).resample(time='AS').mean('time')[-31:-1]\n",
    "ds_TREFHT_land_hist_3_mean=ds_TREFHT_hist_3.where(da_mask).mean(['lat','lon']).resample(time='AS').mean('time')[-31:-1]\n",
    "ds_TREFHT_land_hist_mean=xr.concat([ds_TREFHT_land_hist_1_mean,ds_TREFHT_land_hist_2_mean,ds_TREFHT_land_hist_3_mean],'time')\n",
    "\n",
    "\n",
    "ds_TREFHT_land_ctl_1_mean=ds_TREFHT_ctl_1.where(da_mask).mean(['lat','lon']).resample(time='AS').mean('time')[-31:-1]\n",
    "ds_TREFHT_land_ctl_2_mean=ds_TREFHT_ctl_2.where(da_mask).mean(['lat','lon']).resample(time='AS').mean('time')[-31:-1]\n",
    "ds_TREFHT_land_ctl_3_mean=ds_TREFHT_ctl_3.where(da_mask).mean(['lat','lon']).resample(time='AS').mean('time')[-31:-1]\n",
    "ds_TREFHT_land_ctl_mean=xr.concat([ds_TREFHT_land_ctl_1_mean,ds_TREFHT_land_ctl_2_mean,ds_TREFHT_land_ctl_3_mean],'time')\n",
    "\n",
    "\n",
    "ds_TREFHT_land_sust_1_mean=ds_TREFHT_sust_1.where(da_mask).mean(['lat','lon']).resample(time='AS').mean('time')[-31:-1]\n",
    "ds_TREFHT_land_sust_2_mean=ds_TREFHT_sust_2.where(da_mask).mean(['lat','lon']).resample(time='AS').mean('time')[-31:-1]\n",
    "ds_TREFHT_land_sust_3_mean=ds_TREFHT_sust_3.where(da_mask).mean(['lat','lon']).resample(time='AS').mean('time')[-31:-1]\n",
    "ds_TREFHT_land_sust_mean=xr.concat([ds_TREFHT_land_sust_1_mean,ds_TREFHT_land_sust_2_mean,ds_TREFHT_land_sust_3_mean],'time')\n",
    "\n",
    "\n",
    "ds_TREFHT_land_ineq_1_mean=ds_TREFHT_ineq_1.where(da_mask).mean(['lat','lon']).resample(time='AS').mean('time')[-31:-1]\n",
    "ds_TREFHT_land_ineq_2_mean=ds_TREFHT_ineq_2.where(da_mask).mean(['lat','lon']).resample(time='AS').mean('time')[-31:-1]\n",
    "ds_TREFHT_land_ineq_3_mean=ds_TREFHT_ineq_3.where(da_mask).mean(['lat','lon']).resample(time='AS').mean('time')[-31:-1]\n",
    "ds_TREFHT_land_ineq_mean=xr.concat([ds_TREFHT_land_ineq_1_mean,ds_TREFHT_land_ineq_2_mean,ds_TREFHT_land_ineq_3_mean],'time')\n",
    "\n"
   ]
  },
  {
   "cell_type": "code",
   "execution_count": null,
   "id": "9d1e1f8e",
   "metadata": {},
   "outputs": [],
   "source": []
  },
  {
   "cell_type": "code",
   "execution_count": null,
   "id": "4da91956",
   "metadata": {},
   "outputs": [],
   "source": []
  },
  {
   "cell_type": "code",
   "execution_count": 18,
   "id": "c1d96d80",
   "metadata": {},
   "outputs": [
    {
     "data": {
      "text/plain": [
       "[Text(1.5, 0, 'futctl-histctl'),\n",
       " Text(3.5, 0, 'inequality-histctl'),\n",
       " Text(5.5, 0, 'equality-histctl')]"
      ]
     },
     "execution_count": 18,
     "metadata": {},
     "output_type": "execute_result"
    },
    {
     "data": {
      "image/png": "[encoded data removed]",
      "text/plain": [
       "<Figure size 432x288 with 1 Axes>"
      ]
     },
     "metadata": {
      "needs_background": "light"
     },
     "output_type": "display_data"
    }
   ],
   "source": [
    "#make bar plots (3 bars ctl-hist, ineq-ctl and sust-ctl with variability shown through min/max or boxplot?)\n",
    "data=[ds_TREFHT_ctl_1_mean.values-ds_TREFHT_hist_1_mean.values,ds_TREFHT_ineq_1_mean.values-ds_TREFHT_ctl_1_mean.values,ds_TREFHT_sust_1_mean.values-ds_TREFHT_ctl_1_mean.values]\n",
    "data1=[ds_TREFHT_ctl_1_mean.values-ds_TREFHT_hist_1_mean.values,ds_TREFHT_ctl_2_mean.values-ds_TREFHT_hist_2_mean.values,ds_TREFHT_ctl_3_mean.values-ds_TREFHT_hist_3_mean.values]\n",
    "data2=[ds_TREFHT_ineq_1_mean.values-ds_TREFHT_ctl_1_mean.values,ds_TREFHT_ineq_2_mean.values-ds_TREFHT_ctl_2_mean.values,ds_TREFHT_ineq_3_mean.values-ds_TREFHT_ctl_3_mean.values]\n",
    "data3=[ds_TREFHT_sust_1_mean.values-ds_TREFHT_ctl_1_mean.values,ds_TREFHT_sust_2_mean.values-ds_TREFHT_ctl_2_mean.values,ds_TREFHT_sust_3_mean.values-ds_TREFHT_ctl_3_mean.values]\n",
    "data4=[ds_TREFHT_ineq_1_mean.values-ds_TREFHT_hist_1_mean.values,ds_TREFHT_ineq_2_mean.values-ds_TREFHT_hist_2_mean.values,ds_TREFHT_ineq_3_mean.values-ds_TREFHT_hist_3_mean.values]\n",
    "data5=[ds_TREFHT_sust_1_mean.values-ds_TREFHT_hist_1_mean.values,ds_TREFHT_sust_2_mean.values-ds_TREFHT_hist_2_mean.values,ds_TREFHT_sust_3_mean.values-ds_TREFHT_hist_3_mean.values]\n",
    "\n",
    "\n",
    "fig1, ax = plt.subplots()\n",
    "\n",
    "\n",
    "# first boxplot pair\n",
    "bp = ax.boxplot(data1, positions = [1, 1.5,2], widths = 0.4)\n",
    "\n",
    "# second boxplot pair\n",
    "bp = ax.boxplot(data4, positions = [3, 3.5,4], widths = 0.4)\n",
    "\n",
    "# thrid boxplot pair\n",
    "bp = ax.boxplot(data5, positions = [5, 5.5,6], widths = 0.4)\n",
    "\n",
    "ax.set_xticks([1.5, 3.5, 5.5])\n",
    "\n",
    "ax.set_xticklabels(['futctl-histctl', 'inequality-histctl', 'equality-histctl'])\n"
   ]
  },
  {
   "cell_type": "code",
   "execution_count": 19,
   "id": "0c42b6fa",
   "metadata": {},
   "outputs": [
    {
     "data": {
      "text/plain": [
       "Text(0, 0.5, 'GMT change to preindustrial')"
      ]
     },
     "execution_count": 19,
     "metadata": {},
     "output_type": "execute_result"
    },
    {
     "data": {
      "image/png": "[encoded data removed]",
      "text/plain": [
       "<Figure size 432x288 with 2 Axes>"
      ]
     },
     "metadata": {
      "needs_background": "light"
     },
     "output_type": "display_data"
    }
   ],
   "source": [
    "fig1, ax = plt.subplots()\n",
    "ax2 = ax.twinx()\n",
    "ax.set_ylim(-0.2,2.2)\n",
    "ax2.set_ylim(0.58,2.98)\n",
    "ax.set_xlim(0.5,6.5)\n",
    "\n",
    "data2=[ds_TREFHT_ineq_1_mean.values-ds_TREFHT_ctl_1_mean.values+1,ds_TREFHT_ineq_2_mean.values-ds_TREFHT_ctl_2_mean.values+1,ds_TREFHT_ineq_3_mean.values-ds_TREFHT_ctl_3_mean.values+1]\n",
    "data3=[ds_TREFHT_sust_1_mean.values-ds_TREFHT_ctl_1_mean.values+1,ds_TREFHT_sust_2_mean.values-ds_TREFHT_ctl_2_mean.values+1,ds_TREFHT_sust_3_mean.values-ds_TREFHT_ctl_3_mean.values+1]\n",
    "\n",
    "# first boxplot pair\n",
    "bp = ax.boxplot(data1, positions = [1, 1.5,2], widths = 0.4)\n",
    "\n",
    "# second boxplot pair\n",
    "bp = ax.boxplot(data2, positions = [3, 3.5,4], widths = 0.4)\n",
    "\n",
    "# thrid boxplot pair\n",
    "bp = ax.boxplot(data3, positions = [5, 5.5,6], widths = 0.4)\n",
    "\n",
    "ax.set_xticks([1.5, 3.5, 5.5])\n",
    "\n",
    "ax.set_xticklabels(['SSP1-1.9', 'inequality', 'sustainability'])\n",
    "ax.hlines(y=0,xmin=0,xmax=10,alpha=0.1)\n",
    "ax.hlines(y=1,xmin=0,xmax=10,alpha=0.1,color='r')\n",
    "ax2.hlines(y=1.5,xmin=0,xmax=10,alpha=0.15,color='black')\n",
    "ax2.hlines(y=2,xmin=0,xmax=10,alpha=0.15,color='black')\n",
    "\n",
    "ax.set_ylabel('GMT change to presctl')\n",
    "ax2.set_ylabel('GMT change to preindustrial')"
   ]
  },
  {
   "cell_type": "code",
   "execution_count": 20,
   "id": "2ce0a0eb",
   "metadata": {},
   "outputs": [
    {
     "name": "stdout",
     "output_type": "stream",
     "text": [
      "0.2871246337890625\n"
     ]
    }
   ],
   "source": [
    "print(np.median(data2[:])-1)"
   ]
  },
  {
   "cell_type": "code",
   "execution_count": 21,
   "id": "bd08e148",
   "metadata": {},
   "outputs": [
    {
     "data": {
      "text/plain": [
       "Text(0, 0.5, 'GMT change to futctl')"
      ]
     },
     "execution_count": 21,
     "metadata": {},
     "output_type": "execute_result"
    },
    {
     "data": {
      "image/png": "[encoded data removed]",
      "text/plain": [
       "<Figure size 432x288 with 2 Axes>"
      ]
     },
     "metadata": {
      "needs_background": "light"
     },
     "output_type": "display_data"
    }
   ],
   "source": [
    "fig1, ax = plt.subplots()\n",
    "ax2 = ax.twinx()\n",
    "ax.set_ylim(-0.6,3)\n",
    "ax2.set_ylim(-0.85,2.75)\n",
    "ax.set_xlim(0.5,6.5)\n",
    "\n",
    "data1=[ds_TREFHT_mpiesm_ctl_1_mean.values-ds_TREFHT_mpiesm_hist_1_mean.values,ds_TREFHT_mpiesm_ctl_2_mean.values-ds_TREFHT_mpiesm_hist_2_mean.values,ds_TREFHT_mpiesm_ctl_3_mean.values-ds_TREFHT_mpiesm_hist_3_mean.values]\n",
    "data2=[ds_TREFHT_mpiesm_ineq_1_mean.values-ds_TREFHT_mpiesm_ctl_1_mean.values+0.25,ds_TREFHT_mpiesm_ineq_2_mean.values-ds_TREFHT_mpiesm_ctl_2_mean.values+0.25,ds_TREFHT_mpiesm_ineq_3_mean.values-ds_TREFHT_mpiesm_ctl_3_mean.values+0.25]\n",
    "data3=[ds_TREFHT_mpiesm_sust_1_mean.values-ds_TREFHT_mpiesm_ctl_1_mean.values+0.25,ds_TREFHT_mpiesm_sust_2_mean.values-ds_TREFHT_mpiesm_ctl_2_mean.values+0.25,ds_TREFHT_mpiesm_sust_3_mean.values-ds_TREFHT_mpiesm_ctl_3_mean.values+0.25]\n",
    "\n",
    "\n",
    "# first boxplot pair\n",
    "bp = ax.boxplot(data1, positions = [1, 1.5,2], widths = 0.4)\n",
    "\n",
    "# second boxplot pair\n",
    "bp = ax.boxplot(data2, positions = [3, 3.5,4], widths = 0.4)\n",
    "\n",
    "# thrid boxplot pair\n",
    "bp = ax.boxplot(data3, positions = [5, 5.5,6], widths = 0.4)\n",
    "\n",
    "ax.set_xticks([1.5, 3.5, 5.5])\n",
    "\n",
    "ax.set_xticklabels(['futctl-histctl', 'inequality-futctl', 'equality-futctl'])\n",
    "ax.hlines(y=0,xmin=0,xmax=10,alpha=0.1)\n",
    "ax2.hlines(y=0,xmin=0,xmax=10,alpha=0.1,color='r')\n",
    "ax.set_ylabel('GMT change to histctl')\n",
    "ax2.set_ylabel('GMT change to futctl')"
   ]
  },
  {
   "cell_type": "code",
   "execution_count": 22,
   "id": "76b3bfbd",
   "metadata": {},
   "outputs": [
    {
     "data": {
      "text/plain": [
       "Text(0, 0.5, 'GMT change to futctl')"
      ]
     },
     "execution_count": 22,
     "metadata": {},
     "output_type": "execute_result"
    },
    {
     "data": {
      "image/png": "[encoded data removed]",
      "text/plain": [
       "<Figure size 432x288 with 2 Axes>"
      ]
     },
     "metadata": {
      "needs_background": "light"
     },
     "output_type": "display_data"
    }
   ],
   "source": [
    "fig1, ax = plt.subplots()\n",
    "ax2 = ax.twinx()\n",
    "ax.set_ylim(-0.6,3)\n",
    "ax2.set_ylim(-1.8,1.8)\n",
    "ax.set_xlim(0.5,6.5)\n",
    "\n",
    "data1=[ds_TREFHT_ecearth_ctl_1_mean.values-ds_TREFHT_ecearth_hist_1_mean.values,ds_TREFHT_ecearth_ctl_2_mean.values-ds_TREFHT_ecearth_hist_2_mean.values,ds_TREFHT_ecearth_ctl_3_mean.values-ds_TREFHT_ecearth_hist_3_mean.values]\n",
    "data2=[ds_TREFHT_ecearth_ineq_1_mean.values-ds_TREFHT_ecearth_ctl_1_mean.values+1.2,ds_TREFHT_ecearth_ineq_2_mean.values-ds_TREFHT_ecearth_ctl_2_mean.values+1.2,ds_TREFHT_ecearth_ineq_3_mean.values-ds_TREFHT_ecearth_ctl_3_mean.values+1.2]\n",
    "data3=[ds_TREFHT_ecearth_sust_1_mean.values-ds_TREFHT_ecearth_ctl_1_mean.values+1.2,ds_TREFHT_ecearth_sust_2_mean.values-ds_TREFHT_ecearth_ctl_2_mean.values+1.2,ds_TREFHT_ecearth_sust_3_mean.values-ds_TREFHT_ecearth_ctl_3_mean.values+1.2]\n",
    "\n",
    "\n",
    "# first boxplot pair\n",
    "bp = ax.boxplot(data1, positions = [1, 1.5,2], widths = 0.4)\n",
    "\n",
    "# second boxplot pair\n",
    "bp = ax.boxplot(data2, positions = [3, 3.5,4], widths = 0.4)\n",
    "\n",
    "# thrid boxplot pair\n",
    "bp = ax.boxplot(data3, positions = [5, 5.5,6], widths = 0.4)\n",
    "\n",
    "ax.set_xticks([1.5, 3.5, 5.5])\n",
    "\n",
    "ax.set_xticklabels(['futctl-histctl', 'inequality-futctl', 'equality-futctl'])\n",
    "ax.hlines(y=0,xmin=0,xmax=10,alpha=0.1)\n",
    "ax2.hlines(y=0,xmin=0,xmax=10,alpha=0.1,color='r')\n",
    "ax.set_ylabel('GMT change to histctl')\n",
    "ax2.set_ylabel('GMT change to futctl')"
   ]
  },
  {
   "cell_type": "code",
   "execution_count": 23,
   "id": "2944075e",
   "metadata": {},
   "outputs": [
    {
     "data": {
      "text/plain": [
       "Text(0, 0.5, 'GMT change to preindustrial (°C)')"
      ]
     },
     "execution_count": 23,
     "metadata": {},
     "output_type": "execute_result"
    },
    {
     "data": {
      "image/png": "[encoded data removed]",
      "text/plain": [
       "<Figure size 432x288 with 2 Axes>"
      ]
     },
     "metadata": {
      "needs_background": "light"
     },
     "output_type": "display_data"
    }
   ],
   "source": [
    "##make boxplot per esm and case use color coding for cases\n",
    "\n",
    "fig1, ax = plt.subplots()\n",
    "ax2 = ax.twinx()\n",
    "ax.set_ylim(-0.5,2.5)\n",
    "ax2.set_ylim(0.22,3.28)\n",
    "ax.set_xlim(0.5,6.5)\n",
    "\n",
    "\n",
    "list_futctl_histctl=[ds_TREFHT_ctl_mean.values-ds_TREFHT_hist_mean.values,ds_TREFHT_mpiesm_ctl_mean.values-ds_TREFHT_mpiesm_hist_mean.values,ds_TREFHT_ecearth_ctl_mean.values-ds_TREFHT_ecearth_hist_mean.values]\n",
    "list_futineq_futctl=[ds_TREFHT_ineq_mean.values-ds_TREFHT_hist_mean.values,ds_TREFHT_mpiesm_ineq_mean.values-ds_TREFHT_mpiesm_hist_mean.values,ds_TREFHT_ecearth_ineq_mean.values-ds_TREFHT_ecearth_hist_mean.values]\n",
    "list_futsust_futctl=[ds_TREFHT_sust_mean.values-ds_TREFHT_hist_mean.values,ds_TREFHT_mpiesm_sust_mean.values-ds_TREFHT_mpiesm_hist_mean.values,ds_TREFHT_ecearth_sust_mean.values-ds_TREFHT_ecearth_hist_mean.values]\n",
    "\n",
    "data1=[list_futctl_histctl[0],list_futctl_histctl[0]+list_futineq_futctl[0],list_futctl_histctl[0]+list_futsust_futctl[0]]\n",
    "data2=[list_futctl_histctl[1],list_futctl_histctl[1]+list_futineq_futctl[1],list_futctl_histctl[1]+list_futsust_futctl[1]]\n",
    "data3=[list_futctl_histctl[2],list_futctl_histctl[2]+list_futineq_futctl[2],list_futctl_histctl[2]+list_futsust_futctl[2]]\n",
    "\n",
    "\n",
    "def box_plot(data, edge_color, fill_color,pos0):\n",
    "    bp = ax.boxplot(data, positions = [pos0,pos0+2,pos0+4], widths = 0.4,patch_artist=True)\n",
    "    \n",
    "    for element in ['boxes', 'whiskers', 'fliers', 'means', 'medians', 'caps']:\n",
    "        plt.setp(bp[element], color=edge_color)\n",
    "\n",
    "    for patch in bp['boxes']:\n",
    "        patch.set(facecolor=fill_color)       \n",
    "        \n",
    "    return bp\n",
    "\n",
    "# first boxplot pair\n",
    "bp1=box_plot(list_futctl_histctl, edge_color='black', fill_color='pink',pos0=1)\n",
    "\n",
    "# second boxplot pair\n",
    "bp2=box_plot(list_futineq_futctl, edge_color='black', fill_color='lightblue',pos0=1.5)\n",
    "\n",
    "# thrid boxplot pair\n",
    "bp3=box_plot(list_futsust_futctl, edge_color='black', fill_color='lightgreen',pos0=2)\n",
    "\n",
    "ax.set_xticks([1.5, 3.5, 5.5])\n",
    "\n",
    "ax.set_xticklabels(['CESM', 'MPI-ESM', 'EC-EARTH'])\n",
    "ax.hlines(y=0,xmin=0,xmax=10,alpha=0.1)\n",
    "#ax2.hlines(y=0,xmin=0,xmax=10,alpha=0.1,color='r')\n",
    "ax.set_ylabel('GMT change to presCTL (°C)')\n",
    "ax.legend([bp1[\"boxes\"][0], bp2[\"boxes\"][0],bp3[\"boxes\"][0]], ['futCTL', 'INEQ','SUST'])\n",
    "\n",
    "#ax2.set_ylabel('GMT change to futctl')\n",
    "ax2.hlines(y=1.5,xmin=0,xmax=10,alpha=0.15,color='black')\n",
    "ax2.hlines(y=2,xmin=0,xmax=10,alpha=0.15,color='black')\n",
    "\n",
    "ax2.set_ylabel('GMT change to preindustrial (°C)')"
   ]
  },
  {
   "cell_type": "code",
   "execution_count": 13,
   "id": "4d34fcce",
   "metadata": {},
   "outputs": [
    {
     "name": "stdout",
     "output_type": "stream",
     "text": [
      "cesm 1.0530453,mpiesm 0.35293987,ecearth 1.0202236\n"
     ]
    }
   ],
   "source": [
    "print('cesm '+str(list_futctl_histctl[0].mean())+',mpiesm '+str(list_futctl_histctl[1].mean())+',ecearth '+str(list_futctl_histctl[2].mean()))"
   ]
  },
  {
   "cell_type": "code",
   "execution_count": 14,
   "id": "f845beee",
   "metadata": {},
   "outputs": [
    {
     "name": "stdout",
     "output_type": "stream",
     "text": [
      "cesm 1.3416127,mpiesm 0.5229116,ecearth 1.316081\n"
     ]
    }
   ],
   "source": [
    "print('cesm '+str(list_futineq_futctl[0].mean())+',mpiesm '+str(list_futineq_futctl[1].mean())+',ecearth '+str(list_futineq_futctl[2].mean()))"
   ]
  },
  {
   "cell_type": "code",
   "execution_count": 15,
   "id": "77040017",
   "metadata": {},
   "outputs": [
    {
     "name": "stdout",
     "output_type": "stream",
     "text": [
      "cesm 0.9858531,mpiesm 0.41946343,ecearth 1.0830953\n"
     ]
    }
   ],
   "source": [
    "print('cesm '+str(list_futsust_futctl[0].mean())+',mpiesm '+str(list_futsust_futctl[1].mean())+',ecearth '+str(list_futsust_futctl[2].mean()))"
   ]
  },
  {
   "cell_type": "code",
   "execution_count": 16,
   "id": "73afe4ae",
   "metadata": {},
   "outputs": [
    {
     "data": {
      "text/plain": [
       "Text(0, 0.5, 'GMT change to preindustrial')"
      ]
     },
     "execution_count": 16,
     "metadata": {},
     "output_type": "execute_result"
    },
    {
     "data": {
      "image/png": "[encoded data removed]",
      "text/plain": [
       "<Figure size 432x288 with 2 Axes>"
      ]
     },
     "metadata": {
      "needs_background": "light"
     },
     "output_type": "display_data"
    }
   ],
   "source": [
    "##make boxplot per esm and case use color coding for cases\n",
    "\n",
    "fig1, ax = plt.subplots()\n",
    "ax2 = ax.twinx()\n",
    "ax.set_ylim(-1,3)\n",
    "ax2.set_ylim(-0.28,3.78)\n",
    "ax.set_xlim(0.5,6.5)\n",
    "\n",
    "\n",
    "list_futctl_histctl=[ds_TREFHT_land_ctl_mean.values-ds_TREFHT_land_hist_mean.values,ds_TREFHT_mpiesm_land_ctl_mean.values-ds_TREFHT_mpiesm_land_hist_mean.values,ds_TREFHT_ecearth_land_ctl_mean.values-ds_TREFHT_ecearth_land_hist_mean.values]\n",
    "list_futineq_futctl=[ds_TREFHT_land_ineq_mean.values-ds_TREFHT_land_hist_mean.values,ds_TREFHT_mpiesm_land_ineq_mean.values-ds_TREFHT_mpiesm_land_hist_mean.values,ds_TREFHT_ecearth_land_ineq_mean.values-ds_TREFHT_ecearth_land_hist_mean.values]\n",
    "list_futsust_futctl=[ds_TREFHT_land_sust_mean.values-ds_TREFHT_land_hist_mean.values,ds_TREFHT_mpiesm_land_sust_mean.values-ds_TREFHT_mpiesm_land_hist_mean.values,ds_TREFHT_ecearth_land_sust_mean.values-ds_TREFHT_ecearth_land_hist_mean.values]\n",
    "\n",
    "data1=[list_futctl_histctl[0],list_futctl_histctl[0]+list_futineq_futctl[0],list_futctl_histctl[0]+list_futsust_futctl[0]]\n",
    "data2=[list_futctl_histctl[1],list_futctl_histctl[1]+list_futineq_futctl[1],list_futctl_histctl[1]+list_futsust_futctl[1]]\n",
    "data3=[list_futctl_histctl[2],list_futctl_histctl[2]+list_futineq_futctl[2],list_futctl_histctl[2]+list_futsust_futctl[2]]\n",
    "\n",
    "\n",
    "def box_plot(data, edge_color, fill_color,pos0):\n",
    "    bp = ax.boxplot(data, positions = [pos0,pos0+2,pos0+4], widths = 0.4,patch_artist=True)\n",
    "    \n",
    "    for element in ['boxes', 'whiskers', 'fliers', 'means', 'medians', 'caps']:\n",
    "        plt.setp(bp[element], color=edge_color)\n",
    "\n",
    "    for patch in bp['boxes']:\n",
    "        patch.set(facecolor=fill_color)       \n",
    "        \n",
    "    return bp\n",
    "\n",
    "# first boxplot pair\n",
    "bp1=box_plot(list_futctl_histctl, edge_color='black', fill_color='pink',pos0=1)\n",
    "\n",
    "# second boxplot pair\n",
    "bp2=box_plot(list_futineq_futctl, edge_color='black', fill_color='lightblue',pos0=1.5)\n",
    "\n",
    "# thrid boxplot pair\n",
    "bp3=box_plot(list_futsust_futctl, edge_color='black', fill_color='lightgreen',pos0=2)\n",
    "\n",
    "ax.set_xticks([1.5, 3.5, 5.5])\n",
    "\n",
    "ax.set_xticklabels(['CESM', 'MPI-ESM', 'EC-EARTH'])\n",
    "ax.hlines(y=0,xmin=0,xmax=10,alpha=0.1)\n",
    "#ax2.hlines(y=0,xmin=0,xmax=10,alpha=0.1,color='r')\n",
    "ax.set_ylabel('GMT change to histctl')\n",
    "ax.legend([bp1[\"boxes\"][0], bp2[\"boxes\"][0],bp3[\"boxes\"][0]], ['futctl-histctl', 'futineq-histctl','futsust-histctl'])\n",
    "\n",
    "#ax2.set_ylabel('GMT change to futland_ctl')\n",
    "ax2.hlines(y=1.5,xmin=0,xmax=10,alpha=0.15,color='black')\n",
    "ax2.hlines(y=2,xmin=0,xmax=10,alpha=0.15,color='black')\n",
    "\n",
    "ax2.set_ylabel('GMT change to preindustrial')\n"
   ]
  },
  {
   "cell_type": "code",
   "execution_count": 17,
   "id": "e3cb6523",
   "metadata": {},
   "outputs": [
    {
     "name": "stdout",
     "output_type": "stream",
     "text": [
      "cesm 1.584035,mpiesm 0.36705932,ecearth 1.130245\n"
     ]
    }
   ],
   "source": [
    "print('cesm '+str(list_futctl_histctl[0].mean())+',mpiesm '+str(list_futctl_histctl[1].mean())+',ecearth '+str(list_futctl_histctl[2].mean()))"
   ]
  },
  {
   "cell_type": "code",
   "execution_count": 18,
   "id": "52bcd2b7",
   "metadata": {},
   "outputs": [
    {
     "name": "stdout",
     "output_type": "stream",
     "text": [
      "cesm 1.845182,mpiesm 0.561872,ecearth 1.4087412\n"
     ]
    }
   ],
   "source": [
    "print('cesm '+str(list_futineq_futctl[0].mean())+',mpiesm '+str(list_futineq_futctl[1].mean())+',ecearth '+str(list_futineq_futctl[2].mean()))"
   ]
  },
  {
   "cell_type": "code",
   "execution_count": 19,
   "id": "bc037114",
   "metadata": {},
   "outputs": [
    {
     "name": "stdout",
     "output_type": "stream",
     "text": [
      "cesm 1.4800557,mpiesm 0.45736796,ecearth 1.1713209\n"
     ]
    }
   ],
   "source": [
    "print('cesm '+str(list_futsust_futctl[0].mean())+',mpiesm '+str(list_futsust_futctl[1].mean())+',ecearth '+str(list_futsust_futctl[2].mean()))"
   ]
  },
  {
   "cell_type": "code",
   "execution_count": 20,
   "id": "1ece2d2d",
   "metadata": {},
   "outputs": [],
   "source": [
    "\n",
    "\n",
    "ds_TREFHT_hist_1=open_da('wbgt','hist','cesm','cam','001')\n",
    "ds_TREFHT_hist_2=open_da('wbgt','hist','cesm','cam','002')\n",
    "ds_TREFHT_hist_3=open_da('wbgt','hist','cesm','cam','003')\n",
    "\n",
    "ds_TREFHT_ctl_1=open_da('wbgt','futctl','cesm','cam','001')\n",
    "ds_TREFHT_ctl_2=open_da('wbgt','futctl','cesm','cam','002')\n",
    "ds_TREFHT_ctl_3=open_da('wbgt','futctl','cesm','cam','003')\n",
    "\n",
    "ds_TREFHT_sust_1=open_da('wbgt','futsust','cesm','cam','001')\n",
    "ds_TREFHT_sust_2=open_da('wbgt','futsust','cesm','cam','002')\n",
    "ds_TREFHT_sust_3=open_da('wbgt','futsust','cesm','cam','003')\n",
    "\n",
    "ds_TREFHT_ineq_1=open_da('wbgt','futineq','cesm','cam','001')\n",
    "ds_TREFHT_ineq_2=open_da('wbgt','futineq','cesm','cam','002')\n",
    "ds_TREFHT_ineq_3=open_da('wbgt','futineq','cesm','cam','003')\n",
    "\n",
    "\n",
    "ds_TREFHT_mpiesm_hist_1=open_da('wbgt','hist','mpiesm','cam','001')\n",
    "ds_TREFHT_mpiesm_hist_2=open_da('wbgt','hist','mpiesm','cam','002')\n",
    "ds_TREFHT_mpiesm_hist_3=open_da('wbgt','hist','mpiesm','cam','003')\n",
    "\n",
    "ds_TREFHT_mpiesm_ctl_1=open_da('wbgt','futctl','mpiesm','cam','001')\n",
    "ds_TREFHT_mpiesm_ctl_2=open_da('wbgt','futctl','mpiesm','cam','002')\n",
    "ds_TREFHT_mpiesm_ctl_3=open_da('wbgt','futctl','mpiesm','cam','003')\n",
    "\n",
    "ds_TREFHT_mpiesm_sust_1=open_da('wbgt','futsust','mpiesm','cam','001')\n",
    "ds_TREFHT_mpiesm_sust_2=open_da('wbgt','futsust','mpiesm','cam','002')\n",
    "ds_TREFHT_mpiesm_sust_3=open_da('wbgt','futsust','mpiesm','cam','003')\n",
    "\n",
    "ds_TREFHT_mpiesm_ineq_1=open_da('wbgt','futineq','mpiesm','cam','001')\n",
    "ds_TREFHT_mpiesm_ineq_2=open_da('wbgt','futineq','mpiesm','cam','002')\n",
    "ds_TREFHT_mpiesm_ineq_3=open_da('wbgt','futineq','mpiesm','cam','003')\n",
    "\n",
    "ds_TREFHT_ecearth_hist_1=open_da('wbgt','hist','ecearth','cam','001')\n",
    "ds_TREFHT_ecearth_hist_2=open_da('wbgt','hist','ecearth','cam','002')\n",
    "ds_TREFHT_ecearth_hist_3=open_da('wbgt','hist','ecearth','cam','003')\n",
    "\n",
    "ds_TREFHT_ecearth_ctl_1=open_da('wbgt','futctl','ecearth','cam','001')\n",
    "ds_TREFHT_ecearth_ctl_2=open_da('wbgt','futctl','ecearth','cam','002')\n",
    "ds_TREFHT_ecearth_ctl_3=open_da('wbgt','futctl','ecearth','cam','003')\n",
    "\n",
    "ds_TREFHT_ecearth_sust_1=open_da('wbgt','futsust','ecearth','cam','001')\n",
    "ds_TREFHT_ecearth_sust_2=open_da('wbgt','futsust','ecearth','cam','002')\n",
    "ds_TREFHT_ecearth_sust_3=open_da('wbgt','futsust','ecearth','cam','003')\n",
    "\n",
    "ds_TREFHT_ecearth_ineq_1=open_da('wbgt','futineq','ecearth','cam','001')\n",
    "ds_TREFHT_ecearth_ineq_2=open_da('wbgt','futineq','ecearth','cam','002')\n",
    "ds_TREFHT_ecearth_ineq_3=open_da('wbgt','futineq','ecearth','cam','003')\n"
   ]
  },
  {
   "cell_type": "code",
   "execution_count": 21,
   "id": "85527c44",
   "metadata": {},
   "outputs": [],
   "source": [
    "#compute spatial means (global and/or regional)\n",
    "\n",
    "ds_TREFHT_ecearth_hist_1_mean=ds_TREFHT_ecearth_hist_1.mean(['lat','lon']).resample(time='AS').mean('time')[-31:]\n",
    "ds_TREFHT_ecearth_hist_2_mean=ds_TREFHT_ecearth_hist_2.mean(['lat','lon']).resample(time='AS').mean('time')[-31:]\n",
    "ds_TREFHT_ecearth_hist_3_mean=ds_TREFHT_ecearth_hist_3.mean(['lat','lon']).resample(time='AS').mean('time')[-31:]\n",
    "\n",
    "ds_TREFHT_ecearth_hist_mean=xr.concat([ds_TREFHT_ecearth_hist_1_mean,ds_TREFHT_ecearth_hist_2_mean,ds_TREFHT_ecearth_hist_3_mean],'time')\n",
    "\n",
    "ds_TREFHT_ecearth_ctl_1_mean=ds_TREFHT_ecearth_ctl_1.mean(['lat','lon']).resample(time='AS').mean('time')[-31:-1]\n",
    "ds_TREFHT_ecearth_ctl_2_mean=ds_TREFHT_ecearth_ctl_2.mean(['lat','lon']).resample(time='AS').mean('time')[-31:-1]\n",
    "ds_TREFHT_ecearth_ctl_3_mean=ds_TREFHT_ecearth_ctl_3.mean(['lat','lon']).resample(time='AS').mean('time')[-31:-1]\n",
    "ds_TREFHT_ecearth_ctl_mean=xr.concat([ds_TREFHT_ecearth_ctl_1_mean,ds_TREFHT_ecearth_ctl_2_mean,ds_TREFHT_ecearth_ctl_3_mean],'time')\n",
    "\n",
    "ds_TREFHT_ecearth_sust_1_mean=ds_TREFHT_ecearth_sust_1.mean(['lat','lon']).resample(time='AS').mean('time')[-31:-1]\n",
    "ds_TREFHT_ecearth_sust_2_mean=ds_TREFHT_ecearth_sust_2.mean(['lat','lon']).resample(time='AS').mean('time')[-31:-1]\n",
    "ds_TREFHT_ecearth_sust_3_mean=ds_TREFHT_ecearth_sust_3.mean(['lat','lon']).resample(time='AS').mean('time')[-31:-1]\n",
    "ds_TREFHT_ecearth_sust_mean=xr.concat([ds_TREFHT_ecearth_sust_1_mean,ds_TREFHT_ecearth_sust_2_mean,ds_TREFHT_ecearth_sust_3_mean],'time')\n",
    "\n",
    "ds_TREFHT_ecearth_ineq_1_mean=ds_TREFHT_ecearth_ineq_1.mean(['lat','lon']).resample(time='AS').mean('time')[-31:-1]\n",
    "ds_TREFHT_ecearth_ineq_2_mean=ds_TREFHT_ecearth_ineq_2.mean(['lat','lon']).resample(time='AS').mean('time')[-31:-1]\n",
    "ds_TREFHT_ecearth_ineq_3_mean=ds_TREFHT_ecearth_ineq_3.mean(['lat','lon']).resample(time='AS').mean('time')[-31:-1]\n",
    "ds_TREFHT_ecearth_ineq_mean=xr.concat([ds_TREFHT_ecearth_ineq_1_mean,ds_TREFHT_ecearth_ineq_2_mean,ds_TREFHT_ecearth_ineq_3_mean],'time')\n",
    "\n",
    "\n",
    "ds_TREFHT_mpiesm_hist_1_mean=ds_TREFHT_mpiesm_hist_1.mean(['lat','lon']).resample(time='AS').mean('time')[-31:-1]\n",
    "ds_TREFHT_mpiesm_hist_2_mean=ds_TREFHT_mpiesm_hist_2.mean(['lat','lon']).resample(time='AS').mean('time')[-31:-1]\n",
    "ds_TREFHT_mpiesm_hist_3_mean=ds_TREFHT_mpiesm_hist_3.mean(['lat','lon']).resample(time='AS').mean('time')[-31:-1]\n",
    "\n",
    "ds_TREFHT_mpiesm_hist_mean=xr.concat([ds_TREFHT_mpiesm_hist_1_mean,ds_TREFHT_mpiesm_hist_2_mean,ds_TREFHT_mpiesm_hist_3_mean],'time')\n",
    "\n",
    "ds_TREFHT_mpiesm_ctl_1_mean=ds_TREFHT_mpiesm_ctl_1.mean(['lat','lon']).resample(time='AS').mean('time')[-31:-1]\n",
    "ds_TREFHT_mpiesm_ctl_2_mean=ds_TREFHT_mpiesm_ctl_2.mean(['lat','lon']).resample(time='AS').mean('time')[-31:-1]\n",
    "ds_TREFHT_mpiesm_ctl_3_mean=ds_TREFHT_mpiesm_ctl_3.mean(['lat','lon']).resample(time='AS').mean('time')[-31:-1]\n",
    "ds_TREFHT_mpiesm_ctl_mean=xr.concat([ds_TREFHT_mpiesm_ctl_1_mean,ds_TREFHT_mpiesm_ctl_2_mean,ds_TREFHT_mpiesm_ctl_3_mean],'time')\n",
    "\n",
    "ds_TREFHT_mpiesm_sust_1_mean=ds_TREFHT_mpiesm_sust_1.mean(['lat','lon']).resample(time='AS').mean('time')[-31:-1]\n",
    "ds_TREFHT_mpiesm_sust_2_mean=ds_TREFHT_mpiesm_sust_2.mean(['lat','lon']).resample(time='AS').mean('time')[-31:-1]\n",
    "ds_TREFHT_mpiesm_sust_3_mean=ds_TREFHT_mpiesm_sust_3.mean(['lat','lon']).resample(time='AS').mean('time')[-31:-1]\n",
    "ds_TREFHT_mpiesm_sust_mean=xr.concat([ds_TREFHT_mpiesm_sust_1_mean,ds_TREFHT_mpiesm_sust_2_mean,ds_TREFHT_mpiesm_sust_3_mean],'time')\n",
    "\n",
    "ds_TREFHT_mpiesm_ineq_1_mean=ds_TREFHT_mpiesm_ineq_1.mean(['lat','lon']).resample(time='AS').mean('time')[-31:-1]\n",
    "ds_TREFHT_mpiesm_ineq_2_mean=ds_TREFHT_mpiesm_ineq_2.mean(['lat','lon']).resample(time='AS').mean('time')[-31:-1]\n",
    "ds_TREFHT_mpiesm_ineq_3_mean=ds_TREFHT_mpiesm_ineq_3.mean(['lat','lon']).resample(time='AS').mean('time')[-31:-1]\n",
    "ds_TREFHT_mpiesm_ineq_mean=xr.concat([ds_TREFHT_mpiesm_ineq_1_mean,ds_TREFHT_mpiesm_ineq_2_mean,ds_TREFHT_mpiesm_ineq_3_mean],'time')\n",
    "\n",
    "\n",
    "ds_TREFHT_hist_1_mean=ds_TREFHT_hist_1.mean(['lat','lon']).resample(time='AS').mean('time')[-31:-1]\n",
    "ds_TREFHT_hist_2_mean=ds_TREFHT_hist_2.mean(['lat','lon']).resample(time='AS').mean('time')[-31:-1]\n",
    "ds_TREFHT_hist_3_mean=ds_TREFHT_hist_3.mean(['lat','lon']).resample(time='AS').mean('time')[-31:-1]\n",
    "ds_TREFHT_hist_mean=xr.concat([ds_TREFHT_hist_1_mean,ds_TREFHT_hist_2_mean,ds_TREFHT_hist_3_mean],'time')\n",
    "\n",
    "ds_TREFHT_ctl_1_mean=ds_TREFHT_ctl_1.mean(['lat','lon']).resample(time='AS').mean('time')[-31:-1]\n",
    "ds_TREFHT_ctl_2_mean=ds_TREFHT_ctl_2.mean(['lat','lon']).resample(time='AS').mean('time')[-31:-1]\n",
    "ds_TREFHT_ctl_3_mean=ds_TREFHT_ctl_3.mean(['lat','lon']).resample(time='AS').mean('time')[-31:-1]\n",
    "ds_TREFHT_ctl_mean=xr.concat([ds_TREFHT_ctl_1_mean,ds_TREFHT_ctl_2_mean,ds_TREFHT_ctl_3_mean],'time')\n",
    "\n",
    "ds_TREFHT_sust_1_mean=ds_TREFHT_sust_1.mean(['lat','lon']).resample(time='AS').mean('time')[-31:-1]\n",
    "ds_TREFHT_sust_2_mean=ds_TREFHT_sust_2.mean(['lat','lon']).resample(time='AS').mean('time')[-31:-1]\n",
    "ds_TREFHT_sust_3_mean=ds_TREFHT_sust_3.mean(['lat','lon']).resample(time='AS').mean('time')[-31:-1]\n",
    "ds_TREFHT_sust_mean=xr.concat([ds_TREFHT_sust_1_mean,ds_TREFHT_sust_2_mean,ds_TREFHT_sust_3_mean],'time')\n",
    "\n",
    "ds_TREFHT_ineq_1_mean=ds_TREFHT_ineq_1.mean(['lat','lon']).resample(time='AS').mean('time')[-31:-1]\n",
    "ds_TREFHT_ineq_2_mean=ds_TREFHT_ineq_2.mean(['lat','lon']).resample(time='AS').mean('time')[-31:-1]\n",
    "ds_TREFHT_ineq_3_mean=ds_TREFHT_ineq_3.mean(['lat','lon']).resample(time='AS').mean('time')[-31:-1]\n",
    "ds_TREFHT_ineq_mean=xr.concat([ds_TREFHT_ineq_1_mean,ds_TREFHT_ineq_2_mean,ds_TREFHT_ineq_3_mean],'time')\n"
   ]
  },
  {
   "cell_type": "code",
   "execution_count": 22,
   "id": "2484d1a4",
   "metadata": {},
   "outputs": [
    {
     "data": {
      "text/plain": [
       "Text(0, 0.5, 'GMT change to preindustrial')"
      ]
     },
     "execution_count": 22,
     "metadata": {},
     "output_type": "execute_result"
    },
    {
     "data": {
      "image/png": "[encoded data removed]",
      "text/plain": [
       "<Figure size 432x288 with 2 Axes>"
      ]
     },
     "metadata": {
      "needs_background": "light"
     },
     "output_type": "display_data"
    }
   ],
   "source": [
    "##make boxplot per esm and case use color coding for cases\n",
    "\n",
    "fig1, ax = plt.subplots()\n",
    "ax2 = ax.twinx()\n",
    "ax.set_ylim(-1,3)\n",
    "ax2.set_ylim(-0.28,3.78)\n",
    "ax.set_xlim(0.5,6.5)\n",
    "\n",
    "\n",
    "list_futctl_histctl=[ds_TREFHT_ctl_mean.values-ds_TREFHT_hist_mean.values,ds_TREFHT_mpiesm_ctl_mean.values-ds_TREFHT_mpiesm_hist_mean.values,ds_TREFHT_ecearth_ctl_mean.values-ds_TREFHT_ecearth_hist_mean.values]\n",
    "list_futineq_futctl=[ds_TREFHT_ineq_mean.values-ds_TREFHT_hist_mean.values,ds_TREFHT_mpiesm_ineq_mean.values-ds_TREFHT_mpiesm_hist_mean.values,ds_TREFHT_ecearth_ineq_mean.values-ds_TREFHT_ecearth_hist_mean.values]\n",
    "list_futsust_futctl=[ds_TREFHT_sust_mean.values-ds_TREFHT_hist_mean.values,ds_TREFHT_mpiesm_sust_mean.values-ds_TREFHT_mpiesm_hist_mean.values,ds_TREFHT_ecearth_sust_mean.values-ds_TREFHT_ecearth_hist_mean.values]\n",
    "\n",
    "data1=[list_futctl_histctl[0],list_futctl_histctl[0]+list_futineq_futctl[0],list_futctl_histctl[0]+list_futsust_futctl[0]]\n",
    "data2=[list_futctl_histctl[1],list_futctl_histctl[1]+list_futineq_futctl[1],list_futctl_histctl[1]+list_futsust_futctl[1]]\n",
    "data3=[list_futctl_histctl[2],list_futctl_histctl[2]+list_futineq_futctl[2],list_futctl_histctl[2]+list_futsust_futctl[2]]\n",
    "\n",
    "\n",
    "def box_plot(data, edge_color, fill_color,pos0):\n",
    "    bp = ax.boxplot(data, positions = [pos0,pos0+2,pos0+4], widths = 0.4,patch_artist=True)\n",
    "    \n",
    "    for element in ['boxes', 'whiskers', 'fliers', 'means', 'medians', 'caps']:\n",
    "        plt.setp(bp[element], color=edge_color)\n",
    "\n",
    "    for patch in bp['boxes']:\n",
    "        patch.set(facecolor=fill_color)       \n",
    "        \n",
    "    return bp\n",
    "\n",
    "# first boxplot pair\n",
    "bp1=box_plot(list_futctl_histctl, edge_color='black', fill_color='pink',pos0=1)\n",
    "\n",
    "# second boxplot pair\n",
    "bp2=box_plot(list_futineq_futctl, edge_color='black', fill_color='lightblue',pos0=1.5)\n",
    "\n",
    "# thrid boxplot pair\n",
    "bp3=box_plot(list_futsust_futctl, edge_color='black', fill_color='lightgreen',pos0=2)\n",
    "\n",
    "ax.set_xticks([1.5, 3.5, 5.5])\n",
    "\n",
    "ax.set_xticklabels(['CESM', 'MPI-ESM', 'EC-EARTH'])\n",
    "ax.hlines(y=0,xmin=0,xmax=10,alpha=0.1)\n",
    "#ax2.hlines(y=0,xmin=0,xmax=10,alpha=0.1,color='r')\n",
    "ax.set_ylabel('Global mean WBGT change to histctl')\n",
    "ax.legend([bp1[\"boxes\"][0], bp2[\"boxes\"][0],bp3[\"boxes\"][0]], ['futctl-histctl', 'futineq-histctl','futsust-histctl'])\n",
    "\n",
    "#ax2.set_ylabel('GMT change to futctl')\n",
    "ax2.hlines(y=1.5,xmin=0,xmax=10,alpha=0.15,color='black')\n",
    "ax2.hlines(y=2,xmin=0,xmax=10,alpha=0.15,color='black')\n",
    "\n",
    "ax2.set_ylabel('GMT change to preindustrial')"
   ]
  },
  {
   "cell_type": "code",
   "execution_count": 23,
   "id": "ed95d0b0",
   "metadata": {},
   "outputs": [
    {
     "name": "stdout",
     "output_type": "stream",
     "text": [
      "cesm 1.1216241457159608,mpiesm 0.3604595238730503,ecearth 0.9842903163544912\n"
     ]
    }
   ],
   "source": [
    "print('cesm '+str(list_futctl_histctl[0].mean())+',mpiesm '+str(list_futctl_histctl[1].mean())+',ecearth '+str(list_futctl_histctl[2].mean()))"
   ]
  },
  {
   "cell_type": "code",
   "execution_count": 24,
   "id": "db173e61",
   "metadata": {},
   "outputs": [
    {
     "name": "stdout",
     "output_type": "stream",
     "text": [
      "cesm 1.4125281374896215,mpiesm 0.5125076952808261,ecearth 1.2844391481957524\n"
     ]
    }
   ],
   "source": [
    "print('cesm '+str(list_futineq_futctl[0].mean())+',mpiesm '+str(list_futineq_futctl[1].mean())+',ecearth '+str(list_futineq_futctl[2].mean()))"
   ]
  },
  {
   "cell_type": "code",
   "execution_count": 25,
   "id": "f4c021bb",
   "metadata": {},
   "outputs": [
    {
     "name": "stdout",
     "output_type": "stream",
     "text": [
      "cesm 1.0733757145189662,mpiesm 0.4380604513860293,ecearth 1.0494218535279862\n"
     ]
    }
   ],
   "source": [
    "print('cesm '+str(list_futsust_futctl[0].mean())+',mpiesm '+str(list_futsust_futctl[1].mean())+',ecearth '+str(list_futsust_futctl[2].mean()))"
   ]
  },
  {
   "cell_type": "code",
   "execution_count": 26,
   "id": "6e46dca2",
   "metadata": {},
   "outputs": [],
   "source": [
    "\n",
    "\n",
    "ds_TREFHT_hist_1=open_da('wbgt_monmax','hist',esm='cesm',model='clm2',ens='001',stream='h1')\n",
    "ds_TREFHT_hist_2=open_da('wbgt_monmax','hist','cesm','clm2','002',stream='h1')\n",
    "ds_TREFHT_hist_3=open_da('wbgt_monmax','hist','cesm','clm2','003',stream='h1')\n",
    "\n",
    "ds_TREFHT_ctl_1=open_da('wbgt_monmax','futctl','cesm','clm2','001',stream='h1')\n",
    "ds_TREFHT_ctl_2=open_da('wbgt_monmax','futctl','cesm','clm2','002',stream='h1')\n",
    "ds_TREFHT_ctl_3=open_da('wbgt_monmax','futctl','cesm','clm2','003',stream='h1')\n",
    "\n",
    "ds_TREFHT_sust_1=open_da('wbgt_monmax','futsust','cesm','clm2','001',stream='h1')\n",
    "ds_TREFHT_sust_2=open_da('wbgt_monmax','futsust','cesm','clm2','002',stream='h1')\n",
    "ds_TREFHT_sust_3=open_da('wbgt_monmax','futsust','cesm','clm2','003',stream='h1')\n",
    "\n",
    "ds_TREFHT_ineq_1=open_da('wbgt_monmax','futineq','cesm','clm2','001',stream='h1')\n",
    "ds_TREFHT_ineq_2=open_da('wbgt_monmax','futineq','cesm','clm2','002',stream='h1')\n",
    "ds_TREFHT_ineq_3=open_da('wbgt_monmax','futineq','cesm','clm2','003',stream='h1')\n",
    "\n",
    "\n",
    "ds_TREFHT_mpiesm_hist_1=open_da('wbgt_monmax','hist','mpiesm','clm2','001',stream='h1')\n",
    "ds_TREFHT_mpiesm_hist_2=open_da('wbgt_monmax','hist','mpiesm','clm2','002',stream='h1')\n",
    "ds_TREFHT_mpiesm_hist_3=open_da('wbgt_monmax','hist','mpiesm','clm2','003',stream='h1')\n",
    "\n",
    "ds_TREFHT_mpiesm_ctl_1=open_da('wbgt_monmax','futctl','mpiesm','clm2','001',stream='h1')\n",
    "ds_TREFHT_mpiesm_ctl_2=open_da('wbgt_monmax','futctl','mpiesm','clm2','002',stream='h1')\n",
    "ds_TREFHT_mpiesm_ctl_3=open_da('wbgt_monmax','futctl','mpiesm','clm2','003',stream='h1')\n",
    "\n",
    "ds_TREFHT_mpiesm_sust_1=open_da('wbgt_monmax','futsust','mpiesm','clm2','001',stream='h1')\n",
    "ds_TREFHT_mpiesm_sust_2=open_da('wbgt_monmax','futsust','mpiesm','clm2','002',stream='h1')\n",
    "ds_TREFHT_mpiesm_sust_3=open_da('wbgt_monmax','futsust','mpiesm','clm2','003',stream='h1')\n",
    "\n",
    "ds_TREFHT_mpiesm_ineq_1=open_da('wbgt_monmax','futineq','mpiesm','clm2','001',stream='h1')\n",
    "ds_TREFHT_mpiesm_ineq_2=open_da('wbgt_monmax','futineq','mpiesm','clm2','002',stream='h1')\n",
    "ds_TREFHT_mpiesm_ineq_3=open_da('wbgt_monmax','futineq','mpiesm','clm2','003',stream='h1')\n",
    "\n",
    "ds_TREFHT_ecearth_hist_1=open_da('wbgt_monmax','hist','ecearth','clm2','001',stream='h1')\n",
    "ds_TREFHT_ecearth_hist_2=open_da('wbgt_monmax','hist','ecearth','clm2','002',stream='h1')\n",
    "ds_TREFHT_ecearth_hist_3=open_da('wbgt_monmax','hist','ecearth','clm2','003',stream='h1')\n",
    "\n",
    "ds_TREFHT_ecearth_ctl_1=open_da('wbgt_monmax','futctl','ecearth','clm2','001',stream='h1')\n",
    "ds_TREFHT_ecearth_ctl_2=open_da('wbgt_monmax','futctl','ecearth','clm2','002',stream='h1')\n",
    "ds_TREFHT_ecearth_ctl_3=open_da('wbgt_monmax','futctl','ecearth','clm2','003',stream='h1')\n",
    "\n",
    "ds_TREFHT_ecearth_sust_1=open_da('wbgt_monmax','futsust','ecearth','clm2','001',stream='h1')\n",
    "ds_TREFHT_ecearth_sust_2=open_da('wbgt_monmax','futsust','ecearth','clm2','002',stream='h1')\n",
    "ds_TREFHT_ecearth_sust_3=open_da('wbgt_monmax','futsust','ecearth','clm2','003',stream='h1')\n",
    "\n",
    "ds_TREFHT_ecearth_ineq_1=open_da('wbgt_monmax','futineq','ecearth','clm2','001',stream='h1')\n",
    "ds_TREFHT_ecearth_ineq_2=open_da('wbgt_monmax','futineq','ecearth','clm2','002',stream='h1')\n",
    "ds_TREFHT_ecearth_ineq_3=open_da('wbgt_monmax','futineq','ecearth','clm2','003',stream='h1')\n"
   ]
  },
  {
   "cell_type": "code",
   "execution_count": 27,
   "id": "e362a2f2",
   "metadata": {},
   "outputs": [],
   "source": [
    "#compute spatial means (global and/or regional)\n",
    "mask_dir='/dodrio/scratch/projects/2022_200/project_output/bclimate/sdeherto/wam2layer/scripts/'\n",
    "mask_cesm=xr.open_dataset(mask_dir+'landmask_ecearth.nc')\n",
    "da_mask=mask_cesm['landmask']\n",
    "da_mask=da_mask.mean('time')\n",
    "#    da_mask['lat']=da_delta.lat\n",
    "#    da_mask['lon']=da_delta.lon\n",
    "ds_TREFHT_ecearth_land_hist_1_mean=ds_TREFHT_ecearth_hist_1.where(da_mask).mean(['lat','lon']).resample(time='AS').mean('time')[-31:]\n",
    "ds_TREFHT_ecearth_land_hist_2_mean=ds_TREFHT_ecearth_hist_2.where(da_mask).mean(['lat','lon']).resample(time='AS').mean('time')[-31:]\n",
    "ds_TREFHT_ecearth_land_hist_3_mean=ds_TREFHT_ecearth_hist_3.where(da_mask).mean(['lat','lon']).resample(time='AS').mean('time')[-31:]\n",
    "ds_TREFHT_ecearth_land_hist_mean=xr.concat([ds_TREFHT_ecearth_land_hist_1_mean,ds_TREFHT_ecearth_land_hist_2_mean,ds_TREFHT_ecearth_land_hist_3_mean],'time')\n",
    "\n",
    "\n",
    "ds_TREFHT_ecearth_land_ctl_1_mean=ds_TREFHT_ecearth_ctl_1.where(da_mask).mean(['lat','lon']).resample(time='AS').mean('time')[-31:-1]\n",
    "ds_TREFHT_ecearth_land_ctl_2_mean=ds_TREFHT_ecearth_ctl_2.where(da_mask).mean(['lat','lon']).resample(time='AS').mean('time')[-31:-1]\n",
    "ds_TREFHT_ecearth_land_ctl_3_mean=ds_TREFHT_ecearth_ctl_3.where(da_mask).mean(['lat','lon']).resample(time='AS').mean('time')[-31:-1]\n",
    "ds_TREFHT_ecearth_land_ctl_mean=xr.concat([ds_TREFHT_ecearth_land_ctl_1_mean,ds_TREFHT_ecearth_land_ctl_2_mean,ds_TREFHT_ecearth_land_ctl_3_mean],'time')\n",
    "\n",
    "\n",
    "ds_TREFHT_ecearth_land_sust_1_mean=ds_TREFHT_ecearth_sust_1.where(da_mask).mean(['lat','lon']).resample(time='AS').mean('time')[-31:-1]\n",
    "ds_TREFHT_ecearth_land_sust_2_mean=ds_TREFHT_ecearth_sust_2.where(da_mask).mean(['lat','lon']).resample(time='AS').mean('time')[-31:-1]\n",
    "ds_TREFHT_ecearth_land_sust_3_mean=ds_TREFHT_ecearth_sust_3.where(da_mask).mean(['lat','lon']).resample(time='AS').mean('time')[-31:-1]\n",
    "ds_TREFHT_ecearth_land_sust_mean=xr.concat([ds_TREFHT_ecearth_land_sust_1_mean,ds_TREFHT_ecearth_land_sust_2_mean,ds_TREFHT_ecearth_land_sust_3_mean],'time')\n",
    "\n",
    "\n",
    "ds_TREFHT_ecearth_land_ineq_1_mean=ds_TREFHT_ecearth_ineq_1.where(da_mask).mean(['lat','lon']).resample(time='AS').mean('time')[-31:-1]\n",
    "ds_TREFHT_ecearth_land_ineq_2_mean=ds_TREFHT_ecearth_ineq_2.where(da_mask).mean(['lat','lon']).resample(time='AS').mean('time')[-31:-1]\n",
    "ds_TREFHT_ecearth_land_ineq_3_mean=ds_TREFHT_ecearth_ineq_3.where(da_mask).mean(['lat','lon']).resample(time='AS').mean('time')[-31:-1]\n",
    "ds_TREFHT_ecearth_land_ineq_mean=xr.concat([ds_TREFHT_ecearth_land_ineq_1_mean,ds_TREFHT_ecearth_land_ineq_2_mean,ds_TREFHT_ecearth_land_ineq_3_mean],'time')\n",
    "\n",
    "mask_dir='/dodrio/scratch/projects/2022_200/project_output/bclimate/sdeherto/wam2layer/scripts/'\n",
    "mask_cesm=xr.open_dataset(mask_dir+'landmask_mpiesm.nc')\n",
    "da_mask=mask_cesm['landmask']\n",
    "da_mask['lat']=ds_TREFHT_mpiesm_hist_1.lat\n",
    "da_mask['lon']=ds_TREFHT_mpiesm_hist_1.lon\n",
    "\n",
    "ds_TREFHT_mpiesm_land_hist_1_mean=ds_TREFHT_mpiesm_hist_1.where(da_mask).mean(['lat','lon']).resample(time='AS').mean('time')[-31:-1]\n",
    "ds_TREFHT_mpiesm_land_hist_2_mean=ds_TREFHT_mpiesm_hist_2.where(da_mask).mean(['lat','lon']).resample(time='AS').mean('time')[-31:-1]\n",
    "ds_TREFHT_mpiesm_land_hist_3_mean=ds_TREFHT_mpiesm_hist_3.where(da_mask).mean(['lat','lon']).resample(time='AS').mean('time')[-31:-1]\n",
    "ds_TREFHT_mpiesm_land_hist_mean=xr.concat([ds_TREFHT_mpiesm_land_hist_1_mean,ds_TREFHT_mpiesm_land_hist_2_mean,ds_TREFHT_mpiesm_land_hist_3_mean],'time')\n",
    "\n",
    "\n",
    "ds_TREFHT_mpiesm_land_ctl_1_mean=ds_TREFHT_mpiesm_ctl_1.where(da_mask).mean(['lat','lon']).resample(time='AS').mean('time')[-31:-1]\n",
    "ds_TREFHT_mpiesm_land_ctl_2_mean=ds_TREFHT_mpiesm_ctl_2.where(da_mask).mean(['lat','lon']).resample(time='AS').mean('time')[-31:-1]\n",
    "ds_TREFHT_mpiesm_land_ctl_3_mean=ds_TREFHT_mpiesm_ctl_3.where(da_mask).mean(['lat','lon']).resample(time='AS').mean('time')[-31:-1]\n",
    "ds_TREFHT_mpiesm_land_ctl_mean=xr.concat([ds_TREFHT_mpiesm_land_ctl_1_mean,ds_TREFHT_mpiesm_land_ctl_2_mean,ds_TREFHT_mpiesm_land_ctl_3_mean],'time')\n",
    "\n",
    "\n",
    "ds_TREFHT_mpiesm_land_sust_1_mean=ds_TREFHT_mpiesm_sust_1.where(da_mask).mean(['lat','lon']).resample(time='AS').mean('time')[-31:-1]\n",
    "ds_TREFHT_mpiesm_land_sust_2_mean=ds_TREFHT_mpiesm_sust_2.where(da_mask).mean(['lat','lon']).resample(time='AS').mean('time')[-31:-1]\n",
    "ds_TREFHT_mpiesm_land_sust_3_mean=ds_TREFHT_mpiesm_sust_3.where(da_mask).mean(['lat','lon']).resample(time='AS').mean('time')[-31:-1]\n",
    "ds_TREFHT_mpiesm_land_sust_mean=xr.concat([ds_TREFHT_mpiesm_land_sust_1_mean,ds_TREFHT_mpiesm_land_sust_2_mean,ds_TREFHT_mpiesm_land_sust_3_mean],'time')\n",
    "\n",
    "\n",
    "ds_TREFHT_mpiesm_land_ineq_1_mean=ds_TREFHT_mpiesm_ineq_1.where(da_mask).mean(['lat','lon']).resample(time='AS').mean('time')[-31:-1]\n",
    "ds_TREFHT_mpiesm_land_ineq_2_mean=ds_TREFHT_mpiesm_ineq_2.where(da_mask).mean(['lat','lon']).resample(time='AS').mean('time')[-31:-1]\n",
    "ds_TREFHT_mpiesm_land_ineq_3_mean=ds_TREFHT_mpiesm_ineq_3.where(da_mask).mean(['lat','lon']).resample(time='AS').mean('time')[-31:-1]\n",
    "ds_TREFHT_mpiesm_land_ineq_mean=xr.concat([ds_TREFHT_mpiesm_land_ineq_1_mean,ds_TREFHT_mpiesm_land_ineq_2_mean,ds_TREFHT_mpiesm_land_ineq_3_mean],'time')\n",
    "\n",
    "mask_dir='/dodrio/scratch/projects/2022_200/project_output/bclimate/sdeherto/wam2layer/scripts/'\n",
    "mask_cesm=xr.open_dataset(mask_dir+'landmask_cesm.nc')\n",
    "da_mask=mask_cesm['landmask']\n",
    "\n",
    "ds_TREFHT_land_hist_1_mean=ds_TREFHT_hist_1.where(da_mask).mean(['lat','lon']).resample(time='AS').mean('time')[-31:-1]\n",
    "ds_TREFHT_land_hist_2_mean=ds_TREFHT_hist_2.where(da_mask).mean(['lat','lon']).resample(time='AS').mean('time')[-31:-1]\n",
    "ds_TREFHT_land_hist_3_mean=ds_TREFHT_hist_3.where(da_mask).mean(['lat','lon']).resample(time='AS').mean('time')[-31:-1]\n",
    "ds_TREFHT_land_hist_mean=xr.concat([ds_TREFHT_land_hist_1_mean,ds_TREFHT_land_hist_2_mean,ds_TREFHT_land_hist_3_mean],'time')\n",
    "\n",
    "\n",
    "ds_TREFHT_land_ctl_1_mean=ds_TREFHT_ctl_1.where(da_mask).mean(['lat','lon']).resample(time='AS').mean('time')[-31:-1]\n",
    "ds_TREFHT_land_ctl_2_mean=ds_TREFHT_ctl_2.where(da_mask).mean(['lat','lon']).resample(time='AS').mean('time')[-31:-1]\n",
    "ds_TREFHT_land_ctl_3_mean=ds_TREFHT_ctl_3.where(da_mask).mean(['lat','lon']).resample(time='AS').mean('time')[-31:-1]\n",
    "ds_TREFHT_land_ctl_mean=xr.concat([ds_TREFHT_land_ctl_1_mean,ds_TREFHT_land_ctl_2_mean,ds_TREFHT_land_ctl_3_mean],'time')\n",
    "\n",
    "\n",
    "ds_TREFHT_land_sust_1_mean=ds_TREFHT_sust_1.where(da_mask).mean(['lat','lon']).resample(time='AS').mean('time')[-31:-1]\n",
    "ds_TREFHT_land_sust_2_mean=ds_TREFHT_sust_2.where(da_mask).mean(['lat','lon']).resample(time='AS').mean('time')[-31:-1]\n",
    "ds_TREFHT_land_sust_3_mean=ds_TREFHT_sust_3.where(da_mask).mean(['lat','lon']).resample(time='AS').mean('time')[-31:-1]\n",
    "ds_TREFHT_land_sust_mean=xr.concat([ds_TREFHT_land_sust_1_mean,ds_TREFHT_land_sust_2_mean,ds_TREFHT_land_sust_3_mean],'time')\n",
    "\n",
    "\n",
    "ds_TREFHT_land_ineq_1_mean=ds_TREFHT_ineq_1.where(da_mask).mean(['lat','lon']).resample(time='AS').mean('time')[-31:-1]\n",
    "ds_TREFHT_land_ineq_2_mean=ds_TREFHT_ineq_2.where(da_mask).mean(['lat','lon']).resample(time='AS').mean('time')[-31:-1]\n",
    "ds_TREFHT_land_ineq_3_mean=ds_TREFHT_ineq_3.where(da_mask).mean(['lat','lon']).resample(time='AS').mean('time')[-31:-1]\n",
    "ds_TREFHT_land_ineq_mean=xr.concat([ds_TREFHT_land_ineq_1_mean,ds_TREFHT_land_ineq_2_mean,ds_TREFHT_land_ineq_3_mean],'time')\n",
    "\n"
   ]
  },
  {
   "cell_type": "code",
   "execution_count": 28,
   "id": "a84b9cb8",
   "metadata": {},
   "outputs": [
    {
     "data": {
      "text/plain": [
       "Text(0, 0.5, 'WBGTmonmax change to preindustrial')"
      ]
     },
     "execution_count": 28,
     "metadata": {},
     "output_type": "execute_result"
    },
    {
     "data": {
      "image/png": "[encoded data removed]",
      "text/plain": [
       "<Figure size 432x288 with 2 Axes>"
      ]
     },
     "metadata": {
      "needs_background": "light"
     },
     "output_type": "display_data"
    }
   ],
   "source": [
    "##make boxplot per esm and case use color coding for cases\n",
    "\n",
    "fig1, ax = plt.subplots()\n",
    "ax2 = ax.twinx()\n",
    "ax.set_ylim(-1,3)\n",
    "ax2.set_ylim(-0.28,3.78)\n",
    "ax.set_xlim(0.5,6.5)\n",
    "\n",
    "\n",
    "list_futctl_histctl=[ds_TREFHT_land_ctl_mean.values-ds_TREFHT_land_hist_mean.values,ds_TREFHT_mpiesm_land_ctl_mean.values-ds_TREFHT_mpiesm_land_hist_mean.values,ds_TREFHT_ecearth_land_ctl_mean.values-ds_TREFHT_ecearth_land_hist_mean.values]\n",
    "list_futineq_futctl=[ds_TREFHT_land_ineq_mean.values-ds_TREFHT_land_hist_mean.values,ds_TREFHT_mpiesm_land_ineq_mean.values-ds_TREFHT_mpiesm_land_hist_mean.values,ds_TREFHT_ecearth_land_ineq_mean.values-ds_TREFHT_ecearth_land_hist_mean.values]\n",
    "list_futsust_futctl=[ds_TREFHT_land_sust_mean.values-ds_TREFHT_land_hist_mean.values,ds_TREFHT_mpiesm_land_sust_mean.values-ds_TREFHT_mpiesm_land_hist_mean.values,ds_TREFHT_ecearth_land_sust_mean.values-ds_TREFHT_ecearth_land_hist_mean.values]\n",
    "\n",
    "data1=[list_futctl_histctl[0],list_futctl_histctl[0]+list_futineq_futctl[0],list_futctl_histctl[0]+list_futsust_futctl[0]]\n",
    "data2=[list_futctl_histctl[1],list_futctl_histctl[1]+list_futineq_futctl[1],list_futctl_histctl[1]+list_futsust_futctl[1]]\n",
    "data3=[list_futctl_histctl[2],list_futctl_histctl[2]+list_futineq_futctl[2],list_futctl_histctl[2]+list_futsust_futctl[2]]\n",
    "\n",
    "\n",
    "def box_plot(data, edge_color, fill_color,pos0):\n",
    "    bp = ax.boxplot(data, positions = [pos0,pos0+2,pos0+4], widths = 0.4,patch_artist=True)\n",
    "    \n",
    "    for element in ['boxes', 'whiskers', 'fliers', 'means', 'medians', 'caps']:\n",
    "        plt.setp(bp[element], color=edge_color)\n",
    "\n",
    "    for patch in bp['boxes']:\n",
    "        patch.set(facecolor=fill_color)       \n",
    "        \n",
    "    return bp\n",
    "\n",
    "# first boxplot pair\n",
    "bp1=box_plot(list_futctl_histctl, edge_color='black', fill_color='pink',pos0=1)\n",
    "\n",
    "# second boxplot pair\n",
    "bp2=box_plot(list_futineq_futctl, edge_color='black', fill_color='lightblue',pos0=1.5)\n",
    "\n",
    "# thrid boxplot pair\n",
    "bp3=box_plot(list_futsust_futctl, edge_color='black', fill_color='lightgreen',pos0=2)\n",
    "\n",
    "ax.set_xticks([1.5, 3.5, 5.5])\n",
    "\n",
    "ax.set_xticklabels(['CESM', 'MPI-ESM', 'EC-EARTH'])\n",
    "ax.hlines(y=0,xmin=0,xmax=10,alpha=0.1)\n",
    "#ax2.hlines(y=0,xmin=0,xmax=10,alpha=0.1,color='r')\n",
    "ax.set_ylabel('WBGTmonmax change to histctl')\n",
    "ax.legend([bp1[\"boxes\"][0], bp2[\"boxes\"][0],bp3[\"boxes\"][0]], ['futctl-histctl', 'futineq-histctl','futsust-histctl'])\n",
    "\n",
    "#ax2.set_ylabel('GMT change to futland_ctl')\n",
    "ax2.hlines(y=1.5,xmin=0,xmax=10,alpha=0.15,color='black')\n",
    "ax2.hlines(y=2,xmin=0,xmax=10,alpha=0.15,color='black')\n",
    "\n",
    "ax2.set_ylabel('WBGTmonmax change to preindustrial')\n"
   ]
  },
  {
   "cell_type": "code",
   "execution_count": 29,
   "id": "ad0da2f4",
   "metadata": {},
   "outputs": [
    {
     "name": "stdout",
     "output_type": "stream",
     "text": [
      "cesm 1.1099837238692039,mpiesm 0.3146596703072349,ecearth 0.8702498750516061\n"
     ]
    }
   ],
   "source": [
    "print('cesm '+str(list_futctl_histctl[0].mean())+',mpiesm '+str(list_futctl_histctl[1].mean())+',ecearth '+str(list_futctl_histctl[2].mean()))"
   ]
  },
  {
   "cell_type": "code",
   "execution_count": 30,
   "id": "be80209b",
   "metadata": {},
   "outputs": [
    {
     "name": "stdout",
     "output_type": "stream",
     "text": [
      "cesm 1.3272003672912283,mpiesm 0.438719768617716,ecearth 0.9700679124038761\n"
     ]
    }
   ],
   "source": [
    "print('cesm '+str(list_futineq_futctl[0].mean())+',mpiesm '+str(list_futineq_futctl[1].mean())+',ecearth '+str(list_futineq_futctl[2].mean()))"
   ]
  },
  {
   "cell_type": "code",
   "execution_count": 31,
   "id": "d712b339",
   "metadata": {},
   "outputs": [
    {
     "name": "stdout",
     "output_type": "stream",
     "text": [
      "cesm 1.1224539807531617,mpiesm 0.3869800439882214,ecearth 0.9081704654235939\n"
     ]
    }
   ],
   "source": [
    "print('cesm '+str(list_futsust_futctl[0].mean())+',mpiesm '+str(list_futsust_futctl[1].mean())+',ecearth '+str(list_futsust_futctl[2].mean()))"
   ]
  },
  {
   "cell_type": "code",
   "execution_count": null,
   "id": "5d07cdf7",
   "metadata": {},
   "outputs": [],
   "source": []
  },
  {
   "cell_type": "code",
   "execution_count": null,
   "id": "1f678ba7",
   "metadata": {},
   "outputs": [],
   "source": []
  }
 ],
 "metadata": {
  "kernelspec": {
   "display_name": "Python 3 (ipykernel)",
   "language": "python",
   "name": "python3"
  },
  "language_info": {
   "codemirror_mode": {
    "name": "ipython",
    "version": 3
   },
   "file_extension": ".py",
   "mimetype": "text/x-python",
   "name": "python",
   "nbconvert_exporter": "python",
   "pygments_lexer": "ipython3",
   "version": "3.9.6"
  }
 },
 "nbformat": 4,
 "nbformat_minor": 5
}
